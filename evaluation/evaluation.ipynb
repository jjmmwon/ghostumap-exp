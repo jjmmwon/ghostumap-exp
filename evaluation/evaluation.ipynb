{
 "cells": [
  {
   "cell_type": "code",
   "execution_count": 2,
   "metadata": {},
   "outputs": [],
   "source": [
    "import numpy as np\n",
    "import pandas as pd\n",
    "import matplotlib.pyplot as plt\n",
    "\n",
    "import benchmark as bm\n",
    "\n",
    "from ghostumap import GhostUMAP"
   ]
  },
  {
   "cell_type": "code",
   "execution_count": 3,
   "metadata": {},
   "outputs": [],
   "source": [
    "mnist, mnist_knn = bm.load_dataset('mnist')\n",
    "# celegans, celegans_knn = bm.load_dataset('celegans')"
   ]
  },
  {
   "cell_type": "code",
   "execution_count": 4,
   "metadata": {},
   "outputs": [],
   "source": [
    "gu = GhostUMAP(precomputed_knn = mnist_knn)"
   ]
  },
  {
   "cell_type": "code",
   "execution_count": 16,
   "metadata": {},
   "outputs": [
    {
     "name": "stderr",
     "output_type": "stream",
     "text": [
      "/Users/jeongmyeong-won/Library/Application Support/hatch/env/virtual/ghostumap/lpj6sL2Q/ghostumap/lib/python3.12/site-packages/umap/umap_.py:2012: UserWarning: precomputed_knn[2] (knn_search_index) is not an NNDescent object: transforming new data with transform will be unavailable.\n",
      "  warn(\n"
     ]
    },
    {
     "name": "stdout",
     "output_type": "stream",
     "text": [
      "10\n",
      "399\n",
      "0.8120300751879698\n"
     ]
    },
    {
     "name": "stderr",
     "output_type": "stream",
     "text": [
      "/Users/jeongmyeong-won/Library/Application Support/hatch/env/virtual/ghostumap/lpj6sL2Q/ghostumap/lib/python3.12/site-packages/umap/umap_.py:2012: UserWarning: precomputed_knn[2] (knn_search_index) is not an NNDescent object: transforming new data with transform will be unavailable.\n",
      "  warn(\n"
     ]
    },
    {
     "name": "stdout",
     "output_type": "stream",
     "text": [
      "10\n",
      "34.44560408592224\n"
     ]
    },
    {
     "name": "stderr",
     "output_type": "stream",
     "text": [
      "/Users/jeongmyeong-won/Library/Application Support/hatch/env/virtual/ghostumap/lpj6sL2Q/ghostumap/lib/python3.12/site-packages/umap/umap_.py:2012: UserWarning: precomputed_knn[2] (knn_search_index) is not an NNDescent object: transforming new data with transform will be unavailable.\n",
      "  warn(\n"
     ]
    },
    {
     "name": "stdout",
     "output_type": "stream",
     "text": [
      "10\n",
      "418\n",
      "0.7679425837320574\n"
     ]
    },
    {
     "name": "stderr",
     "output_type": "stream",
     "text": [
      "/Users/jeongmyeong-won/Library/Application Support/hatch/env/virtual/ghostumap/lpj6sL2Q/ghostumap/lib/python3.12/site-packages/umap/umap_.py:2012: UserWarning: precomputed_knn[2] (knn_search_index) is not an NNDescent object: transforming new data with transform will be unavailable.\n",
      "  warn(\n"
     ]
    },
    {
     "name": "stdout",
     "output_type": "stream",
     "text": [
      "10\n",
      "33.91115593910217\n"
     ]
    },
    {
     "name": "stderr",
     "output_type": "stream",
     "text": [
      "/Users/jeongmyeong-won/Library/Application Support/hatch/env/virtual/ghostumap/lpj6sL2Q/ghostumap/lib/python3.12/site-packages/umap/umap_.py:2012: UserWarning: precomputed_knn[2] (knn_search_index) is not an NNDescent object: transforming new data with transform will be unavailable.\n",
      "  warn(\n"
     ]
    },
    {
     "name": "stdout",
     "output_type": "stream",
     "text": [
      "10\n",
      "409\n",
      "0.7921760391198045\n"
     ]
    },
    {
     "name": "stderr",
     "output_type": "stream",
     "text": [
      "/Users/jeongmyeong-won/Library/Application Support/hatch/env/virtual/ghostumap/lpj6sL2Q/ghostumap/lib/python3.12/site-packages/umap/umap_.py:2012: UserWarning: precomputed_knn[2] (knn_search_index) is not an NNDescent object: transforming new data with transform will be unavailable.\n",
      "  warn(\n"
     ]
    },
    {
     "name": "stdout",
     "output_type": "stream",
     "text": [
      "10\n",
      "33.778526067733765\n"
     ]
    },
    {
     "name": "stderr",
     "output_type": "stream",
     "text": [
      "/Users/jeongmyeong-won/Library/Application Support/hatch/env/virtual/ghostumap/lpj6sL2Q/ghostumap/lib/python3.12/site-packages/umap/umap_.py:2012: UserWarning: precomputed_knn[2] (knn_search_index) is not an NNDescent object: transforming new data with transform will be unavailable.\n",
      "  warn(\n"
     ]
    },
    {
     "name": "stdout",
     "output_type": "stream",
     "text": [
      "10\n",
      "424\n",
      "0.7594339622641509\n"
     ]
    },
    {
     "name": "stderr",
     "output_type": "stream",
     "text": [
      "/Users/jeongmyeong-won/Library/Application Support/hatch/env/virtual/ghostumap/lpj6sL2Q/ghostumap/lib/python3.12/site-packages/umap/umap_.py:2012: UserWarning: precomputed_knn[2] (knn_search_index) is not an NNDescent object: transforming new data with transform will be unavailable.\n",
      "  warn(\n"
     ]
    },
    {
     "name": "stdout",
     "output_type": "stream",
     "text": [
      "10\n",
      "33.35865807533264\n"
     ]
    },
    {
     "name": "stderr",
     "output_type": "stream",
     "text": [
      "/Users/jeongmyeong-won/Library/Application Support/hatch/env/virtual/ghostumap/lpj6sL2Q/ghostumap/lib/python3.12/site-packages/umap/umap_.py:2012: UserWarning: precomputed_knn[2] (knn_search_index) is not an NNDescent object: transforming new data with transform will be unavailable.\n",
      "  warn(\n"
     ]
    },
    {
     "name": "stdout",
     "output_type": "stream",
     "text": [
      "10\n",
      "408\n",
      "0.7475490196078431\n"
     ]
    },
    {
     "name": "stderr",
     "output_type": "stream",
     "text": [
      "/Users/jeongmyeong-won/Library/Application Support/hatch/env/virtual/ghostumap/lpj6sL2Q/ghostumap/lib/python3.12/site-packages/umap/umap_.py:2012: UserWarning: precomputed_knn[2] (knn_search_index) is not an NNDescent object: transforming new data with transform will be unavailable.\n",
      "  warn(\n"
     ]
    },
    {
     "name": "stdout",
     "output_type": "stream",
     "text": [
      "10\n",
      "33.721699953079224\n"
     ]
    },
    {
     "name": "stderr",
     "output_type": "stream",
     "text": [
      "/Users/jeongmyeong-won/Library/Application Support/hatch/env/virtual/ghostumap/lpj6sL2Q/ghostumap/lib/python3.12/site-packages/umap/umap_.py:2012: UserWarning: precomputed_knn[2] (knn_search_index) is not an NNDescent object: transforming new data with transform will be unavailable.\n",
      "  warn(\n"
     ]
    },
    {
     "name": "stdout",
     "output_type": "stream",
     "text": [
      "10\n",
      "421\n",
      "0.7505938242280285\n"
     ]
    },
    {
     "name": "stderr",
     "output_type": "stream",
     "text": [
      "/Users/jeongmyeong-won/Library/Application Support/hatch/env/virtual/ghostumap/lpj6sL2Q/ghostumap/lib/python3.12/site-packages/umap/umap_.py:2012: UserWarning: precomputed_knn[2] (knn_search_index) is not an NNDescent object: transforming new data with transform will be unavailable.\n",
      "  warn(\n"
     ]
    },
    {
     "name": "stdout",
     "output_type": "stream",
     "text": [
      "10\n",
      "34.458858013153076\n"
     ]
    },
    {
     "name": "stderr",
     "output_type": "stream",
     "text": [
      "/Users/jeongmyeong-won/Library/Application Support/hatch/env/virtual/ghostumap/lpj6sL2Q/ghostumap/lib/python3.12/site-packages/umap/umap_.py:2012: UserWarning: precomputed_knn[2] (knn_search_index) is not an NNDescent object: transforming new data with transform will be unavailable.\n",
      "  warn(\n"
     ]
    },
    {
     "name": "stdout",
     "output_type": "stream",
     "text": [
      "10\n",
      "413\n",
      "0.7869249394673122\n"
     ]
    },
    {
     "name": "stderr",
     "output_type": "stream",
     "text": [
      "/Users/jeongmyeong-won/Library/Application Support/hatch/env/virtual/ghostumap/lpj6sL2Q/ghostumap/lib/python3.12/site-packages/umap/umap_.py:2012: UserWarning: precomputed_knn[2] (knn_search_index) is not an NNDescent object: transforming new data with transform will be unavailable.\n",
      "  warn(\n"
     ]
    },
    {
     "name": "stdout",
     "output_type": "stream",
     "text": [
      "10\n",
      "33.98997688293457\n"
     ]
    },
    {
     "name": "stderr",
     "output_type": "stream",
     "text": [
      "/Users/jeongmyeong-won/Library/Application Support/hatch/env/virtual/ghostumap/lpj6sL2Q/ghostumap/lib/python3.12/site-packages/umap/umap_.py:2012: UserWarning: precomputed_knn[2] (knn_search_index) is not an NNDescent object: transforming new data with transform will be unavailable.\n",
      "  warn(\n"
     ]
    },
    {
     "name": "stdout",
     "output_type": "stream",
     "text": [
      "10\n",
      "419\n",
      "0.7756563245823389\n"
     ]
    },
    {
     "name": "stderr",
     "output_type": "stream",
     "text": [
      "/Users/jeongmyeong-won/Library/Application Support/hatch/env/virtual/ghostumap/lpj6sL2Q/ghostumap/lib/python3.12/site-packages/umap/umap_.py:2012: UserWarning: precomputed_knn[2] (knn_search_index) is not an NNDescent object: transforming new data with transform will be unavailable.\n",
      "  warn(\n"
     ]
    },
    {
     "name": "stdout",
     "output_type": "stream",
     "text": [
      "10\n",
      "33.32512092590332\n"
     ]
    },
    {
     "name": "stderr",
     "output_type": "stream",
     "text": [
      "/Users/jeongmyeong-won/Library/Application Support/hatch/env/virtual/ghostumap/lpj6sL2Q/ghostumap/lib/python3.12/site-packages/umap/umap_.py:2012: UserWarning: precomputed_knn[2] (knn_search_index) is not an NNDescent object: transforming new data with transform will be unavailable.\n",
      "  warn(\n"
     ]
    },
    {
     "name": "stdout",
     "output_type": "stream",
     "text": [
      "10\n",
      "413\n",
      "0.7869249394673122\n"
     ]
    },
    {
     "name": "stderr",
     "output_type": "stream",
     "text": [
      "/Users/jeongmyeong-won/Library/Application Support/hatch/env/virtual/ghostumap/lpj6sL2Q/ghostumap/lib/python3.12/site-packages/umap/umap_.py:2012: UserWarning: precomputed_knn[2] (knn_search_index) is not an NNDescent object: transforming new data with transform will be unavailable.\n",
      "  warn(\n"
     ]
    },
    {
     "name": "stdout",
     "output_type": "stream",
     "text": [
      "10\n",
      "33.550307750701904\n"
     ]
    },
    {
     "name": "stderr",
     "output_type": "stream",
     "text": [
      "/Users/jeongmyeong-won/Library/Application Support/hatch/env/virtual/ghostumap/lpj6sL2Q/ghostumap/lib/python3.12/site-packages/umap/umap_.py:2012: UserWarning: precomputed_knn[2] (knn_search_index) is not an NNDescent object: transforming new data with transform will be unavailable.\n",
      "  warn(\n"
     ]
    },
    {
     "name": "stdout",
     "output_type": "stream",
     "text": [
      "10\n",
      "400\n",
      "0.8025\n"
     ]
    },
    {
     "name": "stderr",
     "output_type": "stream",
     "text": [
      "/Users/jeongmyeong-won/Library/Application Support/hatch/env/virtual/ghostumap/lpj6sL2Q/ghostumap/lib/python3.12/site-packages/umap/umap_.py:2012: UserWarning: precomputed_knn[2] (knn_search_index) is not an NNDescent object: transforming new data with transform will be unavailable.\n",
      "  warn(\n"
     ]
    },
    {
     "name": "stdout",
     "output_type": "stream",
     "text": [
      "10\n",
      "33.90023612976074\n"
     ]
    },
    {
     "name": "stderr",
     "output_type": "stream",
     "text": [
      "/Users/jeongmyeong-won/Library/Application Support/hatch/env/virtual/ghostumap/lpj6sL2Q/ghostumap/lib/python3.12/site-packages/umap/umap_.py:2012: UserWarning: precomputed_knn[2] (knn_search_index) is not an NNDescent object: transforming new data with transform will be unavailable.\n",
      "  warn(\n"
     ]
    },
    {
     "name": "stdout",
     "output_type": "stream",
     "text": [
      "20\n",
      "411\n",
      "0.9051094890510949\n"
     ]
    },
    {
     "name": "stderr",
     "output_type": "stream",
     "text": [
      "/Users/jeongmyeong-won/Library/Application Support/hatch/env/virtual/ghostumap/lpj6sL2Q/ghostumap/lib/python3.12/site-packages/umap/umap_.py:2012: UserWarning: precomputed_knn[2] (knn_search_index) is not an NNDescent object: transforming new data with transform will be unavailable.\n",
      "  warn(\n"
     ]
    },
    {
     "name": "stdout",
     "output_type": "stream",
     "text": [
      "20\n",
      "38.41251087188721\n"
     ]
    },
    {
     "name": "stderr",
     "output_type": "stream",
     "text": [
      "/Users/jeongmyeong-won/Library/Application Support/hatch/env/virtual/ghostumap/lpj6sL2Q/ghostumap/lib/python3.12/site-packages/umap/umap_.py:2012: UserWarning: precomputed_knn[2] (knn_search_index) is not an NNDescent object: transforming new data with transform will be unavailable.\n",
      "  warn(\n"
     ]
    },
    {
     "name": "stdout",
     "output_type": "stream",
     "text": [
      "20\n",
      "409\n",
      "0.8997555012224939\n"
     ]
    },
    {
     "name": "stderr",
     "output_type": "stream",
     "text": [
      "/Users/jeongmyeong-won/Library/Application Support/hatch/env/virtual/ghostumap/lpj6sL2Q/ghostumap/lib/python3.12/site-packages/umap/umap_.py:2012: UserWarning: precomputed_knn[2] (knn_search_index) is not an NNDescent object: transforming new data with transform will be unavailable.\n",
      "  warn(\n"
     ]
    },
    {
     "name": "stdout",
     "output_type": "stream",
     "text": [
      "20\n",
      "38.31287503242493\n"
     ]
    },
    {
     "name": "stderr",
     "output_type": "stream",
     "text": [
      "/Users/jeongmyeong-won/Library/Application Support/hatch/env/virtual/ghostumap/lpj6sL2Q/ghostumap/lib/python3.12/site-packages/umap/umap_.py:2012: UserWarning: precomputed_knn[2] (knn_search_index) is not an NNDescent object: transforming new data with transform will be unavailable.\n",
      "  warn(\n"
     ]
    },
    {
     "name": "stdout",
     "output_type": "stream",
     "text": [
      "20\n",
      "420\n",
      "0.8833333333333333\n"
     ]
    },
    {
     "name": "stderr",
     "output_type": "stream",
     "text": [
      "/Users/jeongmyeong-won/Library/Application Support/hatch/env/virtual/ghostumap/lpj6sL2Q/ghostumap/lib/python3.12/site-packages/umap/umap_.py:2012: UserWarning: precomputed_knn[2] (knn_search_index) is not an NNDescent object: transforming new data with transform will be unavailable.\n",
      "  warn(\n"
     ]
    },
    {
     "name": "stdout",
     "output_type": "stream",
     "text": [
      "20\n",
      "37.766557931900024\n"
     ]
    },
    {
     "name": "stderr",
     "output_type": "stream",
     "text": [
      "/Users/jeongmyeong-won/Library/Application Support/hatch/env/virtual/ghostumap/lpj6sL2Q/ghostumap/lib/python3.12/site-packages/umap/umap_.py:2012: UserWarning: precomputed_knn[2] (knn_search_index) is not an NNDescent object: transforming new data with transform will be unavailable.\n",
      "  warn(\n"
     ]
    },
    {
     "name": "stdout",
     "output_type": "stream",
     "text": [
      "20\n",
      "410\n",
      "0.8731707317073171\n"
     ]
    },
    {
     "name": "stderr",
     "output_type": "stream",
     "text": [
      "/Users/jeongmyeong-won/Library/Application Support/hatch/env/virtual/ghostumap/lpj6sL2Q/ghostumap/lib/python3.12/site-packages/umap/umap_.py:2012: UserWarning: precomputed_knn[2] (knn_search_index) is not an NNDescent object: transforming new data with transform will be unavailable.\n",
      "  warn(\n"
     ]
    },
    {
     "name": "stdout",
     "output_type": "stream",
     "text": [
      "20\n",
      "35.445831060409546\n"
     ]
    },
    {
     "name": "stderr",
     "output_type": "stream",
     "text": [
      "/Users/jeongmyeong-won/Library/Application Support/hatch/env/virtual/ghostumap/lpj6sL2Q/ghostumap/lib/python3.12/site-packages/umap/umap_.py:2012: UserWarning: precomputed_knn[2] (knn_search_index) is not an NNDescent object: transforming new data with transform will be unavailable.\n",
      "  warn(\n"
     ]
    },
    {
     "name": "stdout",
     "output_type": "stream",
     "text": [
      "20\n",
      "418\n",
      "0.8947368421052632\n"
     ]
    },
    {
     "name": "stderr",
     "output_type": "stream",
     "text": [
      "/Users/jeongmyeong-won/Library/Application Support/hatch/env/virtual/ghostumap/lpj6sL2Q/ghostumap/lib/python3.12/site-packages/umap/umap_.py:2012: UserWarning: precomputed_knn[2] (knn_search_index) is not an NNDescent object: transforming new data with transform will be unavailable.\n",
      "  warn(\n"
     ]
    },
    {
     "name": "stdout",
     "output_type": "stream",
     "text": [
      "20\n",
      "34.49703073501587\n"
     ]
    },
    {
     "name": "stderr",
     "output_type": "stream",
     "text": [
      "/Users/jeongmyeong-won/Library/Application Support/hatch/env/virtual/ghostumap/lpj6sL2Q/ghostumap/lib/python3.12/site-packages/umap/umap_.py:2012: UserWarning: precomputed_knn[2] (knn_search_index) is not an NNDescent object: transforming new data with transform will be unavailable.\n",
      "  warn(\n"
     ]
    },
    {
     "name": "stdout",
     "output_type": "stream",
     "text": [
      "20\n",
      "393\n",
      "0.910941475826972\n"
     ]
    },
    {
     "name": "stderr",
     "output_type": "stream",
     "text": [
      "/Users/jeongmyeong-won/Library/Application Support/hatch/env/virtual/ghostumap/lpj6sL2Q/ghostumap/lib/python3.12/site-packages/umap/umap_.py:2012: UserWarning: precomputed_knn[2] (knn_search_index) is not an NNDescent object: transforming new data with transform will be unavailable.\n",
      "  warn(\n"
     ]
    },
    {
     "name": "stdout",
     "output_type": "stream",
     "text": [
      "20\n",
      "40.66700196266174\n"
     ]
    },
    {
     "name": "stderr",
     "output_type": "stream",
     "text": [
      "/Users/jeongmyeong-won/Library/Application Support/hatch/env/virtual/ghostumap/lpj6sL2Q/ghostumap/lib/python3.12/site-packages/umap/umap_.py:2012: UserWarning: precomputed_knn[2] (knn_search_index) is not an NNDescent object: transforming new data with transform will be unavailable.\n",
      "  warn(\n"
     ]
    },
    {
     "name": "stdout",
     "output_type": "stream",
     "text": [
      "20\n",
      "406\n",
      "0.8817733990147785\n"
     ]
    },
    {
     "name": "stderr",
     "output_type": "stream",
     "text": [
      "/Users/jeongmyeong-won/Library/Application Support/hatch/env/virtual/ghostumap/lpj6sL2Q/ghostumap/lib/python3.12/site-packages/umap/umap_.py:2012: UserWarning: precomputed_knn[2] (knn_search_index) is not an NNDescent object: transforming new data with transform will be unavailable.\n",
      "  warn(\n"
     ]
    },
    {
     "name": "stdout",
     "output_type": "stream",
     "text": [
      "20\n",
      "40.97891092300415\n"
     ]
    },
    {
     "name": "stderr",
     "output_type": "stream",
     "text": [
      "/Users/jeongmyeong-won/Library/Application Support/hatch/env/virtual/ghostumap/lpj6sL2Q/ghostumap/lib/python3.12/site-packages/umap/umap_.py:2012: UserWarning: precomputed_knn[2] (knn_search_index) is not an NNDescent object: transforming new data with transform will be unavailable.\n",
      "  warn(\n"
     ]
    },
    {
     "name": "stdout",
     "output_type": "stream",
     "text": [
      "20\n",
      "407\n",
      "0.8722358722358723\n"
     ]
    },
    {
     "name": "stderr",
     "output_type": "stream",
     "text": [
      "/Users/jeongmyeong-won/Library/Application Support/hatch/env/virtual/ghostumap/lpj6sL2Q/ghostumap/lib/python3.12/site-packages/umap/umap_.py:2012: UserWarning: precomputed_knn[2] (knn_search_index) is not an NNDescent object: transforming new data with transform will be unavailable.\n",
      "  warn(\n"
     ]
    },
    {
     "name": "stdout",
     "output_type": "stream",
     "text": [
      "20\n",
      "35.26498818397522\n"
     ]
    },
    {
     "name": "stderr",
     "output_type": "stream",
     "text": [
      "/Users/jeongmyeong-won/Library/Application Support/hatch/env/virtual/ghostumap/lpj6sL2Q/ghostumap/lib/python3.12/site-packages/umap/umap_.py:2012: UserWarning: precomputed_knn[2] (knn_search_index) is not an NNDescent object: transforming new data with transform will be unavailable.\n",
      "  warn(\n"
     ]
    },
    {
     "name": "stdout",
     "output_type": "stream",
     "text": [
      "20\n",
      "414\n",
      "0.9033816425120773\n"
     ]
    },
    {
     "name": "stderr",
     "output_type": "stream",
     "text": [
      "/Users/jeongmyeong-won/Library/Application Support/hatch/env/virtual/ghostumap/lpj6sL2Q/ghostumap/lib/python3.12/site-packages/umap/umap_.py:2012: UserWarning: precomputed_knn[2] (knn_search_index) is not an NNDescent object: transforming new data with transform will be unavailable.\n",
      "  warn(\n"
     ]
    },
    {
     "name": "stdout",
     "output_type": "stream",
     "text": [
      "20\n",
      "35.28564929962158\n"
     ]
    },
    {
     "name": "stderr",
     "output_type": "stream",
     "text": [
      "/Users/jeongmyeong-won/Library/Application Support/hatch/env/virtual/ghostumap/lpj6sL2Q/ghostumap/lib/python3.12/site-packages/umap/umap_.py:2012: UserWarning: precomputed_knn[2] (knn_search_index) is not an NNDescent object: transforming new data with transform will be unavailable.\n",
      "  warn(\n"
     ]
    },
    {
     "name": "stdout",
     "output_type": "stream",
     "text": [
      "20\n",
      "421\n",
      "0.9168646080760093\n"
     ]
    },
    {
     "name": "stderr",
     "output_type": "stream",
     "text": [
      "/Users/jeongmyeong-won/Library/Application Support/hatch/env/virtual/ghostumap/lpj6sL2Q/ghostumap/lib/python3.12/site-packages/umap/umap_.py:2012: UserWarning: precomputed_knn[2] (knn_search_index) is not an NNDescent object: transforming new data with transform will be unavailable.\n",
      "  warn(\n"
     ]
    },
    {
     "name": "stdout",
     "output_type": "stream",
     "text": [
      "20\n",
      "34.318665981292725\n"
     ]
    },
    {
     "name": "stderr",
     "output_type": "stream",
     "text": [
      "/Users/jeongmyeong-won/Library/Application Support/hatch/env/virtual/ghostumap/lpj6sL2Q/ghostumap/lib/python3.12/site-packages/umap/umap_.py:2012: UserWarning: precomputed_knn[2] (knn_search_index) is not an NNDescent object: transforming new data with transform will be unavailable.\n",
      "  warn(\n"
     ]
    },
    {
     "name": "stdout",
     "output_type": "stream",
     "text": [
      "30\n",
      "396\n",
      "0.9393939393939394\n"
     ]
    },
    {
     "name": "stderr",
     "output_type": "stream",
     "text": [
      "/Users/jeongmyeong-won/Library/Application Support/hatch/env/virtual/ghostumap/lpj6sL2Q/ghostumap/lib/python3.12/site-packages/umap/umap_.py:2012: UserWarning: precomputed_knn[2] (knn_search_index) is not an NNDescent object: transforming new data with transform will be unavailable.\n",
      "  warn(\n"
     ]
    },
    {
     "name": "stdout",
     "output_type": "stream",
     "text": [
      "30\n",
      "36.45537304878235\n"
     ]
    },
    {
     "name": "stderr",
     "output_type": "stream",
     "text": [
      "/Users/jeongmyeong-won/Library/Application Support/hatch/env/virtual/ghostumap/lpj6sL2Q/ghostumap/lib/python3.12/site-packages/umap/umap_.py:2012: UserWarning: precomputed_knn[2] (knn_search_index) is not an NNDescent object: transforming new data with transform will be unavailable.\n",
      "  warn(\n"
     ]
    },
    {
     "name": "stdout",
     "output_type": "stream",
     "text": [
      "30\n",
      "427\n",
      "0.936768149882904\n"
     ]
    },
    {
     "name": "stderr",
     "output_type": "stream",
     "text": [
      "/Users/jeongmyeong-won/Library/Application Support/hatch/env/virtual/ghostumap/lpj6sL2Q/ghostumap/lib/python3.12/site-packages/umap/umap_.py:2012: UserWarning: precomputed_knn[2] (knn_search_index) is not an NNDescent object: transforming new data with transform will be unavailable.\n",
      "  warn(\n"
     ]
    },
    {
     "name": "stdout",
     "output_type": "stream",
     "text": [
      "30\n",
      "36.95994806289673\n"
     ]
    },
    {
     "name": "stderr",
     "output_type": "stream",
     "text": [
      "/Users/jeongmyeong-won/Library/Application Support/hatch/env/virtual/ghostumap/lpj6sL2Q/ghostumap/lib/python3.12/site-packages/umap/umap_.py:2012: UserWarning: precomputed_knn[2] (knn_search_index) is not an NNDescent object: transforming new data with transform will be unavailable.\n",
      "  warn(\n"
     ]
    },
    {
     "name": "stdout",
     "output_type": "stream",
     "text": [
      "30\n",
      "423\n",
      "0.9219858156028369\n"
     ]
    },
    {
     "name": "stderr",
     "output_type": "stream",
     "text": [
      "/Users/jeongmyeong-won/Library/Application Support/hatch/env/virtual/ghostumap/lpj6sL2Q/ghostumap/lib/python3.12/site-packages/umap/umap_.py:2012: UserWarning: precomputed_knn[2] (knn_search_index) is not an NNDescent object: transforming new data with transform will be unavailable.\n",
      "  warn(\n"
     ]
    },
    {
     "name": "stdout",
     "output_type": "stream",
     "text": [
      "30\n",
      "35.869338035583496\n"
     ]
    },
    {
     "name": "stderr",
     "output_type": "stream",
     "text": [
      "/Users/jeongmyeong-won/Library/Application Support/hatch/env/virtual/ghostumap/lpj6sL2Q/ghostumap/lib/python3.12/site-packages/umap/umap_.py:2012: UserWarning: precomputed_knn[2] (knn_search_index) is not an NNDescent object: transforming new data with transform will be unavailable.\n",
      "  warn(\n"
     ]
    },
    {
     "name": "stdout",
     "output_type": "stream",
     "text": [
      "30\n",
      "432\n",
      "0.9050925925925926\n"
     ]
    },
    {
     "name": "stderr",
     "output_type": "stream",
     "text": [
      "/Users/jeongmyeong-won/Library/Application Support/hatch/env/virtual/ghostumap/lpj6sL2Q/ghostumap/lib/python3.12/site-packages/umap/umap_.py:2012: UserWarning: precomputed_knn[2] (knn_search_index) is not an NNDescent object: transforming new data with transform will be unavailable.\n",
      "  warn(\n"
     ]
    },
    {
     "name": "stdout",
     "output_type": "stream",
     "text": [
      "30\n",
      "35.7899808883667\n"
     ]
    },
    {
     "name": "stderr",
     "output_type": "stream",
     "text": [
      "/Users/jeongmyeong-won/Library/Application Support/hatch/env/virtual/ghostumap/lpj6sL2Q/ghostumap/lib/python3.12/site-packages/umap/umap_.py:2012: UserWarning: precomputed_knn[2] (knn_search_index) is not an NNDescent object: transforming new data with transform will be unavailable.\n",
      "  warn(\n"
     ]
    },
    {
     "name": "stdout",
     "output_type": "stream",
     "text": [
      "30\n",
      "420\n",
      "0.9214285714285714\n"
     ]
    },
    {
     "name": "stderr",
     "output_type": "stream",
     "text": [
      "/Users/jeongmyeong-won/Library/Application Support/hatch/env/virtual/ghostumap/lpj6sL2Q/ghostumap/lib/python3.12/site-packages/umap/umap_.py:2012: UserWarning: precomputed_knn[2] (knn_search_index) is not an NNDescent object: transforming new data with transform will be unavailable.\n",
      "  warn(\n"
     ]
    },
    {
     "name": "stdout",
     "output_type": "stream",
     "text": [
      "30\n",
      "37.351131200790405\n"
     ]
    },
    {
     "name": "stderr",
     "output_type": "stream",
     "text": [
      "/Users/jeongmyeong-won/Library/Application Support/hatch/env/virtual/ghostumap/lpj6sL2Q/ghostumap/lib/python3.12/site-packages/umap/umap_.py:2012: UserWarning: precomputed_knn[2] (knn_search_index) is not an NNDescent object: transforming new data with transform will be unavailable.\n",
      "  warn(\n"
     ]
    },
    {
     "name": "stdout",
     "output_type": "stream",
     "text": [
      "30\n",
      "442\n",
      "0.9276018099547512\n"
     ]
    },
    {
     "name": "stderr",
     "output_type": "stream",
     "text": [
      "/Users/jeongmyeong-won/Library/Application Support/hatch/env/virtual/ghostumap/lpj6sL2Q/ghostumap/lib/python3.12/site-packages/umap/umap_.py:2012: UserWarning: precomputed_knn[2] (knn_search_index) is not an NNDescent object: transforming new data with transform will be unavailable.\n",
      "  warn(\n"
     ]
    },
    {
     "name": "stdout",
     "output_type": "stream",
     "text": [
      "30\n",
      "35.43114376068115\n"
     ]
    },
    {
     "name": "stderr",
     "output_type": "stream",
     "text": [
      "/Users/jeongmyeong-won/Library/Application Support/hatch/env/virtual/ghostumap/lpj6sL2Q/ghostumap/lib/python3.12/site-packages/umap/umap_.py:2012: UserWarning: precomputed_knn[2] (knn_search_index) is not an NNDescent object: transforming new data with transform will be unavailable.\n",
      "  warn(\n"
     ]
    },
    {
     "name": "stdout",
     "output_type": "stream",
     "text": [
      "30\n",
      "395\n",
      "0.9341772151898734\n"
     ]
    },
    {
     "name": "stderr",
     "output_type": "stream",
     "text": [
      "/Users/jeongmyeong-won/Library/Application Support/hatch/env/virtual/ghostumap/lpj6sL2Q/ghostumap/lib/python3.12/site-packages/umap/umap_.py:2012: UserWarning: precomputed_knn[2] (knn_search_index) is not an NNDescent object: transforming new data with transform will be unavailable.\n",
      "  warn(\n"
     ]
    },
    {
     "name": "stdout",
     "output_type": "stream",
     "text": [
      "30\n",
      "35.53288221359253\n"
     ]
    },
    {
     "name": "stderr",
     "output_type": "stream",
     "text": [
      "/Users/jeongmyeong-won/Library/Application Support/hatch/env/virtual/ghostumap/lpj6sL2Q/ghostumap/lib/python3.12/site-packages/umap/umap_.py:2012: UserWarning: precomputed_knn[2] (knn_search_index) is not an NNDescent object: transforming new data with transform will be unavailable.\n",
      "  warn(\n"
     ]
    },
    {
     "name": "stdout",
     "output_type": "stream",
     "text": [
      "30\n",
      "427\n",
      "0.9180327868852459\n"
     ]
    },
    {
     "name": "stderr",
     "output_type": "stream",
     "text": [
      "/Users/jeongmyeong-won/Library/Application Support/hatch/env/virtual/ghostumap/lpj6sL2Q/ghostumap/lib/python3.12/site-packages/umap/umap_.py:2012: UserWarning: precomputed_knn[2] (knn_search_index) is not an NNDescent object: transforming new data with transform will be unavailable.\n",
      "  warn(\n"
     ]
    },
    {
     "name": "stdout",
     "output_type": "stream",
     "text": [
      "30\n",
      "36.280158042907715\n"
     ]
    },
    {
     "name": "stderr",
     "output_type": "stream",
     "text": [
      "/Users/jeongmyeong-won/Library/Application Support/hatch/env/virtual/ghostumap/lpj6sL2Q/ghostumap/lib/python3.12/site-packages/umap/umap_.py:2012: UserWarning: precomputed_knn[2] (knn_search_index) is not an NNDescent object: transforming new data with transform will be unavailable.\n",
      "  warn(\n"
     ]
    },
    {
     "name": "stdout",
     "output_type": "stream",
     "text": [
      "30\n",
      "404\n",
      "0.9207920792079208\n"
     ]
    },
    {
     "name": "stderr",
     "output_type": "stream",
     "text": [
      "/Users/jeongmyeong-won/Library/Application Support/hatch/env/virtual/ghostumap/lpj6sL2Q/ghostumap/lib/python3.12/site-packages/umap/umap_.py:2012: UserWarning: precomputed_knn[2] (knn_search_index) is not an NNDescent object: transforming new data with transform will be unavailable.\n",
      "  warn(\n"
     ]
    },
    {
     "name": "stdout",
     "output_type": "stream",
     "text": [
      "30\n",
      "35.89352202415466\n"
     ]
    },
    {
     "name": "stderr",
     "output_type": "stream",
     "text": [
      "/Users/jeongmyeong-won/Library/Application Support/hatch/env/virtual/ghostumap/lpj6sL2Q/ghostumap/lib/python3.12/site-packages/umap/umap_.py:2012: UserWarning: precomputed_knn[2] (knn_search_index) is not an NNDescent object: transforming new data with transform will be unavailable.\n",
      "  warn(\n"
     ]
    },
    {
     "name": "stdout",
     "output_type": "stream",
     "text": [
      "30\n",
      "421\n",
      "0.9216152019002374\n"
     ]
    },
    {
     "name": "stderr",
     "output_type": "stream",
     "text": [
      "/Users/jeongmyeong-won/Library/Application Support/hatch/env/virtual/ghostumap/lpj6sL2Q/ghostumap/lib/python3.12/site-packages/umap/umap_.py:2012: UserWarning: precomputed_knn[2] (knn_search_index) is not an NNDescent object: transforming new data with transform will be unavailable.\n",
      "  warn(\n"
     ]
    },
    {
     "name": "stdout",
     "output_type": "stream",
     "text": [
      "30\n",
      "36.157110929489136\n"
     ]
    },
    {
     "name": "stderr",
     "output_type": "stream",
     "text": [
      "/Users/jeongmyeong-won/Library/Application Support/hatch/env/virtual/ghostumap/lpj6sL2Q/ghostumap/lib/python3.12/site-packages/umap/umap_.py:2012: UserWarning: precomputed_knn[2] (knn_search_index) is not an NNDescent object: transforming new data with transform will be unavailable.\n",
      "  warn(\n"
     ]
    },
    {
     "name": "stdout",
     "output_type": "stream",
     "text": [
      "50\n",
      "410\n",
      "0.9439024390243902\n"
     ]
    },
    {
     "name": "stderr",
     "output_type": "stream",
     "text": [
      "/Users/jeongmyeong-won/Library/Application Support/hatch/env/virtual/ghostumap/lpj6sL2Q/ghostumap/lib/python3.12/site-packages/umap/umap_.py:2012: UserWarning: precomputed_knn[2] (knn_search_index) is not an NNDescent object: transforming new data with transform will be unavailable.\n",
      "  warn(\n"
     ]
    },
    {
     "name": "stdout",
     "output_type": "stream",
     "text": [
      "50\n",
      "38.47788405418396\n"
     ]
    },
    {
     "name": "stderr",
     "output_type": "stream",
     "text": [
      "/Users/jeongmyeong-won/Library/Application Support/hatch/env/virtual/ghostumap/lpj6sL2Q/ghostumap/lib/python3.12/site-packages/umap/umap_.py:2012: UserWarning: precomputed_knn[2] (knn_search_index) is not an NNDescent object: transforming new data with transform will be unavailable.\n",
      "  warn(\n"
     ]
    },
    {
     "name": "stdout",
     "output_type": "stream",
     "text": [
      "50\n",
      "399\n",
      "0.974937343358396\n"
     ]
    },
    {
     "name": "stderr",
     "output_type": "stream",
     "text": [
      "/Users/jeongmyeong-won/Library/Application Support/hatch/env/virtual/ghostumap/lpj6sL2Q/ghostumap/lib/python3.12/site-packages/umap/umap_.py:2012: UserWarning: precomputed_knn[2] (knn_search_index) is not an NNDescent object: transforming new data with transform will be unavailable.\n",
      "  warn(\n"
     ]
    },
    {
     "name": "stdout",
     "output_type": "stream",
     "text": [
      "50\n",
      "38.35187077522278\n"
     ]
    },
    {
     "name": "stderr",
     "output_type": "stream",
     "text": [
      "/Users/jeongmyeong-won/Library/Application Support/hatch/env/virtual/ghostumap/lpj6sL2Q/ghostumap/lib/python3.12/site-packages/umap/umap_.py:2012: UserWarning: precomputed_knn[2] (knn_search_index) is not an NNDescent object: transforming new data with transform will be unavailable.\n",
      "  warn(\n"
     ]
    },
    {
     "name": "stdout",
     "output_type": "stream",
     "text": [
      "50\n",
      "423\n",
      "0.9574468085106385\n"
     ]
    },
    {
     "name": "stderr",
     "output_type": "stream",
     "text": [
      "/Users/jeongmyeong-won/Library/Application Support/hatch/env/virtual/ghostumap/lpj6sL2Q/ghostumap/lib/python3.12/site-packages/umap/umap_.py:2012: UserWarning: precomputed_knn[2] (knn_search_index) is not an NNDescent object: transforming new data with transform will be unavailable.\n",
      "  warn(\n"
     ]
    },
    {
     "name": "stdout",
     "output_type": "stream",
     "text": [
      "50\n",
      "38.060471057891846\n"
     ]
    },
    {
     "name": "stderr",
     "output_type": "stream",
     "text": [
      "/Users/jeongmyeong-won/Library/Application Support/hatch/env/virtual/ghostumap/lpj6sL2Q/ghostumap/lib/python3.12/site-packages/umap/umap_.py:2012: UserWarning: precomputed_knn[2] (knn_search_index) is not an NNDescent object: transforming new data with transform will be unavailable.\n",
      "  warn(\n"
     ]
    },
    {
     "name": "stdout",
     "output_type": "stream",
     "text": [
      "50\n",
      "416\n",
      "0.9639423076923077\n"
     ]
    },
    {
     "name": "stderr",
     "output_type": "stream",
     "text": [
      "/Users/jeongmyeong-won/Library/Application Support/hatch/env/virtual/ghostumap/lpj6sL2Q/ghostumap/lib/python3.12/site-packages/umap/umap_.py:2012: UserWarning: precomputed_knn[2] (knn_search_index) is not an NNDescent object: transforming new data with transform will be unavailable.\n",
      "  warn(\n"
     ]
    },
    {
     "name": "stdout",
     "output_type": "stream",
     "text": [
      "50\n",
      "39.20457220077515\n"
     ]
    },
    {
     "name": "stderr",
     "output_type": "stream",
     "text": [
      "/Users/jeongmyeong-won/Library/Application Support/hatch/env/virtual/ghostumap/lpj6sL2Q/ghostumap/lib/python3.12/site-packages/umap/umap_.py:2012: UserWarning: precomputed_knn[2] (knn_search_index) is not an NNDescent object: transforming new data with transform will be unavailable.\n",
      "  warn(\n"
     ]
    },
    {
     "name": "stdout",
     "output_type": "stream",
     "text": [
      "50\n",
      "414\n",
      "0.9685990338164251\n"
     ]
    },
    {
     "name": "stderr",
     "output_type": "stream",
     "text": [
      "/Users/jeongmyeong-won/Library/Application Support/hatch/env/virtual/ghostumap/lpj6sL2Q/ghostumap/lib/python3.12/site-packages/umap/umap_.py:2012: UserWarning: precomputed_knn[2] (knn_search_index) is not an NNDescent object: transforming new data with transform will be unavailable.\n",
      "  warn(\n"
     ]
    },
    {
     "name": "stdout",
     "output_type": "stream",
     "text": [
      "50\n",
      "38.531282901763916\n"
     ]
    },
    {
     "name": "stderr",
     "output_type": "stream",
     "text": [
      "/Users/jeongmyeong-won/Library/Application Support/hatch/env/virtual/ghostumap/lpj6sL2Q/ghostumap/lib/python3.12/site-packages/umap/umap_.py:2012: UserWarning: precomputed_knn[2] (knn_search_index) is not an NNDescent object: transforming new data with transform will be unavailable.\n",
      "  warn(\n"
     ]
    },
    {
     "name": "stdout",
     "output_type": "stream",
     "text": [
      "50\n",
      "387\n",
      "0.9509043927648578\n"
     ]
    },
    {
     "name": "stderr",
     "output_type": "stream",
     "text": [
      "/Users/jeongmyeong-won/Library/Application Support/hatch/env/virtual/ghostumap/lpj6sL2Q/ghostumap/lib/python3.12/site-packages/umap/umap_.py:2012: UserWarning: precomputed_knn[2] (knn_search_index) is not an NNDescent object: transforming new data with transform will be unavailable.\n",
      "  warn(\n"
     ]
    },
    {
     "name": "stdout",
     "output_type": "stream",
     "text": [
      "50\n",
      "38.02927303314209\n"
     ]
    },
    {
     "name": "stderr",
     "output_type": "stream",
     "text": [
      "/Users/jeongmyeong-won/Library/Application Support/hatch/env/virtual/ghostumap/lpj6sL2Q/ghostumap/lib/python3.12/site-packages/umap/umap_.py:2012: UserWarning: precomputed_knn[2] (knn_search_index) is not an NNDescent object: transforming new data with transform will be unavailable.\n",
      "  warn(\n"
     ]
    },
    {
     "name": "stdout",
     "output_type": "stream",
     "text": [
      "50\n",
      "440\n",
      "0.9659090909090909\n"
     ]
    },
    {
     "name": "stderr",
     "output_type": "stream",
     "text": [
      "/Users/jeongmyeong-won/Library/Application Support/hatch/env/virtual/ghostumap/lpj6sL2Q/ghostumap/lib/python3.12/site-packages/umap/umap_.py:2012: UserWarning: precomputed_knn[2] (knn_search_index) is not an NNDescent object: transforming new data with transform will be unavailable.\n",
      "  warn(\n"
     ]
    },
    {
     "name": "stdout",
     "output_type": "stream",
     "text": [
      "50\n",
      "38.980448961257935\n"
     ]
    },
    {
     "name": "stderr",
     "output_type": "stream",
     "text": [
      "/Users/jeongmyeong-won/Library/Application Support/hatch/env/virtual/ghostumap/lpj6sL2Q/ghostumap/lib/python3.12/site-packages/umap/umap_.py:2012: UserWarning: precomputed_knn[2] (knn_search_index) is not an NNDescent object: transforming new data with transform will be unavailable.\n",
      "  warn(\n"
     ]
    },
    {
     "name": "stdout",
     "output_type": "stream",
     "text": [
      "50\n",
      "409\n",
      "0.960880195599022\n"
     ]
    },
    {
     "name": "stderr",
     "output_type": "stream",
     "text": [
      "/Users/jeongmyeong-won/Library/Application Support/hatch/env/virtual/ghostumap/lpj6sL2Q/ghostumap/lib/python3.12/site-packages/umap/umap_.py:2012: UserWarning: precomputed_knn[2] (knn_search_index) is not an NNDescent object: transforming new data with transform will be unavailable.\n",
      "  warn(\n"
     ]
    },
    {
     "name": "stdout",
     "output_type": "stream",
     "text": [
      "50\n",
      "37.982160806655884\n"
     ]
    },
    {
     "name": "stderr",
     "output_type": "stream",
     "text": [
      "/Users/jeongmyeong-won/Library/Application Support/hatch/env/virtual/ghostumap/lpj6sL2Q/ghostumap/lib/python3.12/site-packages/umap/umap_.py:2012: UserWarning: precomputed_knn[2] (knn_search_index) is not an NNDescent object: transforming new data with transform will be unavailable.\n",
      "  warn(\n"
     ]
    },
    {
     "name": "stdout",
     "output_type": "stream",
     "text": [
      "50\n",
      "411\n",
      "0.9586374695863747\n"
     ]
    },
    {
     "name": "stderr",
     "output_type": "stream",
     "text": [
      "/Users/jeongmyeong-won/Library/Application Support/hatch/env/virtual/ghostumap/lpj6sL2Q/ghostumap/lib/python3.12/site-packages/umap/umap_.py:2012: UserWarning: precomputed_knn[2] (knn_search_index) is not an NNDescent object: transforming new data with transform will be unavailable.\n",
      "  warn(\n"
     ]
    },
    {
     "name": "stdout",
     "output_type": "stream",
     "text": [
      "50\n",
      "39.8946430683136\n"
     ]
    },
    {
     "name": "stderr",
     "output_type": "stream",
     "text": [
      "/Users/jeongmyeong-won/Library/Application Support/hatch/env/virtual/ghostumap/lpj6sL2Q/ghostumap/lib/python3.12/site-packages/umap/umap_.py:2012: UserWarning: precomputed_knn[2] (knn_search_index) is not an NNDescent object: transforming new data with transform will be unavailable.\n",
      "  warn(\n"
     ]
    },
    {
     "name": "stdout",
     "output_type": "stream",
     "text": [
      "50\n",
      "406\n",
      "0.9655172413793104\n"
     ]
    },
    {
     "name": "stderr",
     "output_type": "stream",
     "text": [
      "/Users/jeongmyeong-won/Library/Application Support/hatch/env/virtual/ghostumap/lpj6sL2Q/ghostumap/lib/python3.12/site-packages/umap/umap_.py:2012: UserWarning: precomputed_knn[2] (knn_search_index) is not an NNDescent object: transforming new data with transform will be unavailable.\n",
      "  warn(\n"
     ]
    },
    {
     "name": "stdout",
     "output_type": "stream",
     "text": [
      "50\n",
      "38.08590292930603\n"
     ]
    },
    {
     "name": "stderr",
     "output_type": "stream",
     "text": [
      "/Users/jeongmyeong-won/Library/Application Support/hatch/env/virtual/ghostumap/lpj6sL2Q/ghostumap/lib/python3.12/site-packages/umap/umap_.py:2012: UserWarning: precomputed_knn[2] (knn_search_index) is not an NNDescent object: transforming new data with transform will be unavailable.\n",
      "  warn(\n"
     ]
    },
    {
     "name": "stdout",
     "output_type": "stream",
     "text": [
      "70\n",
      "439\n",
      "0.9886104783599089\n"
     ]
    },
    {
     "name": "stderr",
     "output_type": "stream",
     "text": [
      "/Users/jeongmyeong-won/Library/Application Support/hatch/env/virtual/ghostumap/lpj6sL2Q/ghostumap/lib/python3.12/site-packages/umap/umap_.py:2012: UserWarning: precomputed_knn[2] (knn_search_index) is not an NNDescent object: transforming new data with transform will be unavailable.\n",
      "  warn(\n"
     ]
    },
    {
     "name": "stdout",
     "output_type": "stream",
     "text": [
      "70\n",
      "41.83879494667053\n"
     ]
    },
    {
     "name": "stderr",
     "output_type": "stream",
     "text": [
      "/Users/jeongmyeong-won/Library/Application Support/hatch/env/virtual/ghostumap/lpj6sL2Q/ghostumap/lib/python3.12/site-packages/umap/umap_.py:2012: UserWarning: precomputed_knn[2] (knn_search_index) is not an NNDescent object: transforming new data with transform will be unavailable.\n",
      "  warn(\n"
     ]
    },
    {
     "name": "stdout",
     "output_type": "stream",
     "text": [
      "70\n",
      "403\n",
      "0.9875930521091811\n"
     ]
    },
    {
     "name": "stderr",
     "output_type": "stream",
     "text": [
      "/Users/jeongmyeong-won/Library/Application Support/hatch/env/virtual/ghostumap/lpj6sL2Q/ghostumap/lib/python3.12/site-packages/umap/umap_.py:2012: UserWarning: precomputed_knn[2] (knn_search_index) is not an NNDescent object: transforming new data with transform will be unavailable.\n",
      "  warn(\n"
     ]
    },
    {
     "name": "stdout",
     "output_type": "stream",
     "text": [
      "70\n",
      "40.655503034591675\n"
     ]
    },
    {
     "name": "stderr",
     "output_type": "stream",
     "text": [
      "/Users/jeongmyeong-won/Library/Application Support/hatch/env/virtual/ghostumap/lpj6sL2Q/ghostumap/lib/python3.12/site-packages/umap/umap_.py:2012: UserWarning: precomputed_knn[2] (knn_search_index) is not an NNDescent object: transforming new data with transform will be unavailable.\n",
      "  warn(\n"
     ]
    },
    {
     "name": "stdout",
     "output_type": "stream",
     "text": [
      "70\n",
      "416\n",
      "0.9807692307692307\n"
     ]
    },
    {
     "name": "stderr",
     "output_type": "stream",
     "text": [
      "/Users/jeongmyeong-won/Library/Application Support/hatch/env/virtual/ghostumap/lpj6sL2Q/ghostumap/lib/python3.12/site-packages/umap/umap_.py:2012: UserWarning: precomputed_knn[2] (knn_search_index) is not an NNDescent object: transforming new data with transform will be unavailable.\n",
      "  warn(\n"
     ]
    },
    {
     "name": "stdout",
     "output_type": "stream",
     "text": [
      "70\n",
      "40.05641293525696\n"
     ]
    },
    {
     "name": "stderr",
     "output_type": "stream",
     "text": [
      "/Users/jeongmyeong-won/Library/Application Support/hatch/env/virtual/ghostumap/lpj6sL2Q/ghostumap/lib/python3.12/site-packages/umap/umap_.py:2012: UserWarning: precomputed_knn[2] (knn_search_index) is not an NNDescent object: transforming new data with transform will be unavailable.\n",
      "  warn(\n"
     ]
    },
    {
     "name": "stdout",
     "output_type": "stream",
     "text": [
      "70\n",
      "417\n",
      "0.9808153477218226\n"
     ]
    },
    {
     "name": "stderr",
     "output_type": "stream",
     "text": [
      "/Users/jeongmyeong-won/Library/Application Support/hatch/env/virtual/ghostumap/lpj6sL2Q/ghostumap/lib/python3.12/site-packages/umap/umap_.py:2012: UserWarning: precomputed_knn[2] (knn_search_index) is not an NNDescent object: transforming new data with transform will be unavailable.\n",
      "  warn(\n"
     ]
    },
    {
     "name": "stdout",
     "output_type": "stream",
     "text": [
      "70\n",
      "40.663763999938965\n"
     ]
    },
    {
     "name": "stderr",
     "output_type": "stream",
     "text": [
      "/Users/jeongmyeong-won/Library/Application Support/hatch/env/virtual/ghostumap/lpj6sL2Q/ghostumap/lib/python3.12/site-packages/umap/umap_.py:2012: UserWarning: precomputed_knn[2] (knn_search_index) is not an NNDescent object: transforming new data with transform will be unavailable.\n",
      "  warn(\n"
     ]
    },
    {
     "name": "stdout",
     "output_type": "stream",
     "text": [
      "70\n",
      "392\n",
      "0.9795918367346939\n"
     ]
    },
    {
     "name": "stderr",
     "output_type": "stream",
     "text": [
      "/Users/jeongmyeong-won/Library/Application Support/hatch/env/virtual/ghostumap/lpj6sL2Q/ghostumap/lib/python3.12/site-packages/umap/umap_.py:2012: UserWarning: precomputed_knn[2] (knn_search_index) is not an NNDescent object: transforming new data with transform will be unavailable.\n",
      "  warn(\n"
     ]
    },
    {
     "name": "stdout",
     "output_type": "stream",
     "text": [
      "70\n",
      "41.16855788230896\n"
     ]
    },
    {
     "name": "stderr",
     "output_type": "stream",
     "text": [
      "/Users/jeongmyeong-won/Library/Application Support/hatch/env/virtual/ghostumap/lpj6sL2Q/ghostumap/lib/python3.12/site-packages/umap/umap_.py:2012: UserWarning: precomputed_knn[2] (knn_search_index) is not an NNDescent object: transforming new data with transform will be unavailable.\n",
      "  warn(\n"
     ]
    },
    {
     "name": "stdout",
     "output_type": "stream",
     "text": [
      "70\n",
      "421\n",
      "0.9928741092636579\n"
     ]
    },
    {
     "name": "stderr",
     "output_type": "stream",
     "text": [
      "/Users/jeongmyeong-won/Library/Application Support/hatch/env/virtual/ghostumap/lpj6sL2Q/ghostumap/lib/python3.12/site-packages/umap/umap_.py:2012: UserWarning: precomputed_knn[2] (knn_search_index) is not an NNDescent object: transforming new data with transform will be unavailable.\n",
      "  warn(\n"
     ]
    },
    {
     "name": "stdout",
     "output_type": "stream",
     "text": [
      "70\n",
      "40.6541702747345\n"
     ]
    },
    {
     "name": "stderr",
     "output_type": "stream",
     "text": [
      "/Users/jeongmyeong-won/Library/Application Support/hatch/env/virtual/ghostumap/lpj6sL2Q/ghostumap/lib/python3.12/site-packages/umap/umap_.py:2012: UserWarning: precomputed_knn[2] (knn_search_index) is not an NNDescent object: transforming new data with transform will be unavailable.\n",
      "  warn(\n"
     ]
    },
    {
     "name": "stdout",
     "output_type": "stream",
     "text": [
      "70\n",
      "439\n",
      "0.9954441913439636\n"
     ]
    },
    {
     "name": "stderr",
     "output_type": "stream",
     "text": [
      "/Users/jeongmyeong-won/Library/Application Support/hatch/env/virtual/ghostumap/lpj6sL2Q/ghostumap/lib/python3.12/site-packages/umap/umap_.py:2012: UserWarning: precomputed_knn[2] (knn_search_index) is not an NNDescent object: transforming new data with transform will be unavailable.\n",
      "  warn(\n"
     ]
    },
    {
     "name": "stdout",
     "output_type": "stream",
     "text": [
      "70\n",
      "40.51301693916321\n"
     ]
    },
    {
     "name": "stderr",
     "output_type": "stream",
     "text": [
      "/Users/jeongmyeong-won/Library/Application Support/hatch/env/virtual/ghostumap/lpj6sL2Q/ghostumap/lib/python3.12/site-packages/umap/umap_.py:2012: UserWarning: precomputed_knn[2] (knn_search_index) is not an NNDescent object: transforming new data with transform will be unavailable.\n",
      "  warn(\n"
     ]
    },
    {
     "name": "stdout",
     "output_type": "stream",
     "text": [
      "70\n",
      "395\n",
      "0.9924050632911392\n"
     ]
    },
    {
     "name": "stderr",
     "output_type": "stream",
     "text": [
      "/Users/jeongmyeong-won/Library/Application Support/hatch/env/virtual/ghostumap/lpj6sL2Q/ghostumap/lib/python3.12/site-packages/umap/umap_.py:2012: UserWarning: precomputed_knn[2] (knn_search_index) is not an NNDescent object: transforming new data with transform will be unavailable.\n",
      "  warn(\n"
     ]
    },
    {
     "name": "stdout",
     "output_type": "stream",
     "text": [
      "70\n",
      "40.28504204750061\n"
     ]
    },
    {
     "name": "stderr",
     "output_type": "stream",
     "text": [
      "/Users/jeongmyeong-won/Library/Application Support/hatch/env/virtual/ghostumap/lpj6sL2Q/ghostumap/lib/python3.12/site-packages/umap/umap_.py:2012: UserWarning: precomputed_knn[2] (knn_search_index) is not an NNDescent object: transforming new data with transform will be unavailable.\n",
      "  warn(\n"
     ]
    },
    {
     "name": "stdout",
     "output_type": "stream",
     "text": [
      "70\n",
      "434\n",
      "0.9861751152073732\n"
     ]
    },
    {
     "name": "stderr",
     "output_type": "stream",
     "text": [
      "/Users/jeongmyeong-won/Library/Application Support/hatch/env/virtual/ghostumap/lpj6sL2Q/ghostumap/lib/python3.12/site-packages/umap/umap_.py:2012: UserWarning: precomputed_knn[2] (knn_search_index) is not an NNDescent object: transforming new data with transform will be unavailable.\n",
      "  warn(\n"
     ]
    },
    {
     "name": "stdout",
     "output_type": "stream",
     "text": [
      "70\n",
      "40.40624189376831\n"
     ]
    },
    {
     "name": "stderr",
     "output_type": "stream",
     "text": [
      "/Users/jeongmyeong-won/Library/Application Support/hatch/env/virtual/ghostumap/lpj6sL2Q/ghostumap/lib/python3.12/site-packages/umap/umap_.py:2012: UserWarning: precomputed_knn[2] (knn_search_index) is not an NNDescent object: transforming new data with transform will be unavailable.\n",
      "  warn(\n"
     ]
    },
    {
     "name": "stdout",
     "output_type": "stream",
     "text": [
      "70\n",
      "423\n",
      "0.983451536643026\n"
     ]
    },
    {
     "name": "stderr",
     "output_type": "stream",
     "text": [
      "/Users/jeongmyeong-won/Library/Application Support/hatch/env/virtual/ghostumap/lpj6sL2Q/ghostumap/lib/python3.12/site-packages/umap/umap_.py:2012: UserWarning: precomputed_knn[2] (knn_search_index) is not an NNDescent object: transforming new data with transform will be unavailable.\n",
      "  warn(\n"
     ]
    },
    {
     "name": "stdout",
     "output_type": "stream",
     "text": [
      "70\n",
      "40.709736824035645\n"
     ]
    },
    {
     "name": "stderr",
     "output_type": "stream",
     "text": [
      "/Users/jeongmyeong-won/Library/Application Support/hatch/env/virtual/ghostumap/lpj6sL2Q/ghostumap/lib/python3.12/site-packages/umap/umap_.py:2012: UserWarning: precomputed_knn[2] (knn_search_index) is not an NNDescent object: transforming new data with transform will be unavailable.\n",
      "  warn(\n"
     ]
    },
    {
     "name": "stdout",
     "output_type": "stream",
     "text": [
      "100\n",
      "408\n",
      "1.0\n"
     ]
    },
    {
     "name": "stderr",
     "output_type": "stream",
     "text": [
      "/Users/jeongmyeong-won/Library/Application Support/hatch/env/virtual/ghostumap/lpj6sL2Q/ghostumap/lib/python3.12/site-packages/umap/umap_.py:2012: UserWarning: precomputed_knn[2] (knn_search_index) is not an NNDescent object: transforming new data with transform will be unavailable.\n",
      "  warn(\n"
     ]
    },
    {
     "name": "stdout",
     "output_type": "stream",
     "text": [
      "100\n",
      "44.73794603347778\n"
     ]
    },
    {
     "name": "stderr",
     "output_type": "stream",
     "text": [
      "/Users/jeongmyeong-won/Library/Application Support/hatch/env/virtual/ghostumap/lpj6sL2Q/ghostumap/lib/python3.12/site-packages/umap/umap_.py:2012: UserWarning: precomputed_knn[2] (knn_search_index) is not an NNDescent object: transforming new data with transform will be unavailable.\n",
      "  warn(\n"
     ]
    },
    {
     "name": "stdout",
     "output_type": "stream",
     "text": [
      "100\n",
      "443\n",
      "0.9977426636568849\n"
     ]
    },
    {
     "name": "stderr",
     "output_type": "stream",
     "text": [
      "/Users/jeongmyeong-won/Library/Application Support/hatch/env/virtual/ghostumap/lpj6sL2Q/ghostumap/lib/python3.12/site-packages/umap/umap_.py:2012: UserWarning: precomputed_knn[2] (knn_search_index) is not an NNDescent object: transforming new data with transform will be unavailable.\n",
      "  warn(\n"
     ]
    },
    {
     "name": "stdout",
     "output_type": "stream",
     "text": [
      "100\n",
      "43.034013986587524\n"
     ]
    },
    {
     "name": "stderr",
     "output_type": "stream",
     "text": [
      "/Users/jeongmyeong-won/Library/Application Support/hatch/env/virtual/ghostumap/lpj6sL2Q/ghostumap/lib/python3.12/site-packages/umap/umap_.py:2012: UserWarning: precomputed_knn[2] (knn_search_index) is not an NNDescent object: transforming new data with transform will be unavailable.\n",
      "  warn(\n"
     ]
    },
    {
     "name": "stdout",
     "output_type": "stream",
     "text": [
      "100\n",
      "416\n",
      "0.9975961538461539\n"
     ]
    },
    {
     "name": "stderr",
     "output_type": "stream",
     "text": [
      "/Users/jeongmyeong-won/Library/Application Support/hatch/env/virtual/ghostumap/lpj6sL2Q/ghostumap/lib/python3.12/site-packages/umap/umap_.py:2012: UserWarning: precomputed_knn[2] (knn_search_index) is not an NNDescent object: transforming new data with transform will be unavailable.\n",
      "  warn(\n"
     ]
    },
    {
     "name": "stdout",
     "output_type": "stream",
     "text": [
      "100\n",
      "44.43334126472473\n"
     ]
    },
    {
     "name": "stderr",
     "output_type": "stream",
     "text": [
      "/Users/jeongmyeong-won/Library/Application Support/hatch/env/virtual/ghostumap/lpj6sL2Q/ghostumap/lib/python3.12/site-packages/umap/umap_.py:2012: UserWarning: precomputed_knn[2] (knn_search_index) is not an NNDescent object: transforming new data with transform will be unavailable.\n",
      "  warn(\n"
     ]
    },
    {
     "name": "stdout",
     "output_type": "stream",
     "text": [
      "100\n",
      "422\n",
      "0.9976303317535545\n"
     ]
    },
    {
     "name": "stderr",
     "output_type": "stream",
     "text": [
      "/Users/jeongmyeong-won/Library/Application Support/hatch/env/virtual/ghostumap/lpj6sL2Q/ghostumap/lib/python3.12/site-packages/umap/umap_.py:2012: UserWarning: precomputed_knn[2] (knn_search_index) is not an NNDescent object: transforming new data with transform will be unavailable.\n",
      "  warn(\n"
     ]
    },
    {
     "name": "stdout",
     "output_type": "stream",
     "text": [
      "100\n",
      "45.44048523902893\n"
     ]
    },
    {
     "name": "stderr",
     "output_type": "stream",
     "text": [
      "/Users/jeongmyeong-won/Library/Application Support/hatch/env/virtual/ghostumap/lpj6sL2Q/ghostumap/lib/python3.12/site-packages/umap/umap_.py:2012: UserWarning: precomputed_knn[2] (knn_search_index) is not an NNDescent object: transforming new data with transform will be unavailable.\n",
      "  warn(\n"
     ]
    },
    {
     "name": "stdout",
     "output_type": "stream",
     "text": [
      "100\n",
      "413\n",
      "0.9951573849878934\n"
     ]
    },
    {
     "name": "stderr",
     "output_type": "stream",
     "text": [
      "/Users/jeongmyeong-won/Library/Application Support/hatch/env/virtual/ghostumap/lpj6sL2Q/ghostumap/lib/python3.12/site-packages/umap/umap_.py:2012: UserWarning: precomputed_knn[2] (knn_search_index) is not an NNDescent object: transforming new data with transform will be unavailable.\n",
      "  warn(\n"
     ]
    },
    {
     "name": "stdout",
     "output_type": "stream",
     "text": [
      "100\n",
      "43.633575201034546\n"
     ]
    },
    {
     "name": "stderr",
     "output_type": "stream",
     "text": [
      "/Users/jeongmyeong-won/Library/Application Support/hatch/env/virtual/ghostumap/lpj6sL2Q/ghostumap/lib/python3.12/site-packages/umap/umap_.py:2012: UserWarning: precomputed_knn[2] (knn_search_index) is not an NNDescent object: transforming new data with transform will be unavailable.\n",
      "  warn(\n"
     ]
    },
    {
     "name": "stdout",
     "output_type": "stream",
     "text": [
      "100\n",
      "417\n",
      "1.0\n"
     ]
    },
    {
     "name": "stderr",
     "output_type": "stream",
     "text": [
      "/Users/jeongmyeong-won/Library/Application Support/hatch/env/virtual/ghostumap/lpj6sL2Q/ghostumap/lib/python3.12/site-packages/umap/umap_.py:2012: UserWarning: precomputed_knn[2] (knn_search_index) is not an NNDescent object: transforming new data with transform will be unavailable.\n",
      "  warn(\n"
     ]
    },
    {
     "name": "stdout",
     "output_type": "stream",
     "text": [
      "100\n",
      "44.347193002700806\n"
     ]
    },
    {
     "name": "stderr",
     "output_type": "stream",
     "text": [
      "/Users/jeongmyeong-won/Library/Application Support/hatch/env/virtual/ghostumap/lpj6sL2Q/ghostumap/lib/python3.12/site-packages/umap/umap_.py:2012: UserWarning: precomputed_knn[2] (knn_search_index) is not an NNDescent object: transforming new data with transform will be unavailable.\n",
      "  warn(\n"
     ]
    },
    {
     "name": "stdout",
     "output_type": "stream",
     "text": [
      "100\n",
      "418\n",
      "0.9976076555023924\n"
     ]
    },
    {
     "name": "stderr",
     "output_type": "stream",
     "text": [
      "/Users/jeongmyeong-won/Library/Application Support/hatch/env/virtual/ghostumap/lpj6sL2Q/ghostumap/lib/python3.12/site-packages/umap/umap_.py:2012: UserWarning: precomputed_knn[2] (knn_search_index) is not an NNDescent object: transforming new data with transform will be unavailable.\n",
      "  warn(\n"
     ]
    },
    {
     "name": "stdout",
     "output_type": "stream",
     "text": [
      "100\n",
      "54.438071966171265\n"
     ]
    },
    {
     "name": "stderr",
     "output_type": "stream",
     "text": [
      "/Users/jeongmyeong-won/Library/Application Support/hatch/env/virtual/ghostumap/lpj6sL2Q/ghostumap/lib/python3.12/site-packages/umap/umap_.py:2012: UserWarning: precomputed_knn[2] (knn_search_index) is not an NNDescent object: transforming new data with transform will be unavailable.\n",
      "  warn(\n"
     ]
    },
    {
     "name": "stdout",
     "output_type": "stream",
     "text": [
      "100\n",
      "435\n",
      "0.9954022988505747\n"
     ]
    },
    {
     "name": "stderr",
     "output_type": "stream",
     "text": [
      "/Users/jeongmyeong-won/Library/Application Support/hatch/env/virtual/ghostumap/lpj6sL2Q/ghostumap/lib/python3.12/site-packages/umap/umap_.py:2012: UserWarning: precomputed_knn[2] (knn_search_index) is not an NNDescent object: transforming new data with transform will be unavailable.\n",
      "  warn(\n"
     ]
    },
    {
     "name": "stdout",
     "output_type": "stream",
     "text": [
      "100\n",
      "49.54898405075073\n"
     ]
    },
    {
     "name": "stderr",
     "output_type": "stream",
     "text": [
      "/Users/jeongmyeong-won/Library/Application Support/hatch/env/virtual/ghostumap/lpj6sL2Q/ghostumap/lib/python3.12/site-packages/umap/umap_.py:2012: UserWarning: precomputed_knn[2] (knn_search_index) is not an NNDescent object: transforming new data with transform will be unavailable.\n",
      "  warn(\n"
     ]
    },
    {
     "name": "stdout",
     "output_type": "stream",
     "text": [
      "100\n",
      "407\n",
      "1.0\n"
     ]
    },
    {
     "name": "stderr",
     "output_type": "stream",
     "text": [
      "/Users/jeongmyeong-won/Library/Application Support/hatch/env/virtual/ghostumap/lpj6sL2Q/ghostumap/lib/python3.12/site-packages/umap/umap_.py:2012: UserWarning: precomputed_knn[2] (knn_search_index) is not an NNDescent object: transforming new data with transform will be unavailable.\n",
      "  warn(\n"
     ]
    },
    {
     "name": "stdout",
     "output_type": "stream",
     "text": [
      "100\n",
      "48.605502128601074\n"
     ]
    },
    {
     "name": "stderr",
     "output_type": "stream",
     "text": [
      "/Users/jeongmyeong-won/Library/Application Support/hatch/env/virtual/ghostumap/lpj6sL2Q/ghostumap/lib/python3.12/site-packages/umap/umap_.py:2012: UserWarning: precomputed_knn[2] (knn_search_index) is not an NNDescent object: transforming new data with transform will be unavailable.\n",
      "  warn(\n"
     ]
    },
    {
     "name": "stdout",
     "output_type": "stream",
     "text": [
      "100\n",
      "409\n",
      "0.9951100244498777\n"
     ]
    },
    {
     "name": "stderr",
     "output_type": "stream",
     "text": [
      "/Users/jeongmyeong-won/Library/Application Support/hatch/env/virtual/ghostumap/lpj6sL2Q/ghostumap/lib/python3.12/site-packages/umap/umap_.py:2012: UserWarning: precomputed_knn[2] (knn_search_index) is not an NNDescent object: transforming new data with transform will be unavailable.\n",
      "  warn(\n"
     ]
    },
    {
     "name": "stdout",
     "output_type": "stream",
     "text": [
      "100\n",
      "47.03111910820007\n"
     ]
    },
    {
     "name": "stderr",
     "output_type": "stream",
     "text": [
      "/Users/jeongmyeong-won/Library/Application Support/hatch/env/virtual/ghostumap/lpj6sL2Q/ghostumap/lib/python3.12/site-packages/umap/umap_.py:2012: UserWarning: precomputed_knn[2] (knn_search_index) is not an NNDescent object: transforming new data with transform will be unavailable.\n",
      "  warn(\n"
     ]
    },
    {
     "name": "stdout",
     "output_type": "stream",
     "text": [
      "150\n",
      "420\n",
      "1.0\n"
     ]
    },
    {
     "name": "stderr",
     "output_type": "stream",
     "text": [
      "/Users/jeongmyeong-won/Library/Application Support/hatch/env/virtual/ghostumap/lpj6sL2Q/ghostumap/lib/python3.12/site-packages/umap/umap_.py:2012: UserWarning: precomputed_knn[2] (knn_search_index) is not an NNDescent object: transforming new data with transform will be unavailable.\n",
      "  warn(\n"
     ]
    },
    {
     "name": "stdout",
     "output_type": "stream",
     "text": [
      "150\n",
      "58.45886301994324\n"
     ]
    },
    {
     "name": "stderr",
     "output_type": "stream",
     "text": [
      "/Users/jeongmyeong-won/Library/Application Support/hatch/env/virtual/ghostumap/lpj6sL2Q/ghostumap/lib/python3.12/site-packages/umap/umap_.py:2012: UserWarning: precomputed_knn[2] (knn_search_index) is not an NNDescent object: transforming new data with transform will be unavailable.\n",
      "  warn(\n"
     ]
    },
    {
     "name": "stdout",
     "output_type": "stream",
     "text": [
      "150\n",
      "428\n",
      "1.0\n"
     ]
    },
    {
     "name": "stderr",
     "output_type": "stream",
     "text": [
      "/Users/jeongmyeong-won/Library/Application Support/hatch/env/virtual/ghostumap/lpj6sL2Q/ghostumap/lib/python3.12/site-packages/umap/umap_.py:2012: UserWarning: precomputed_knn[2] (knn_search_index) is not an NNDescent object: transforming new data with transform will be unavailable.\n",
      "  warn(\n"
     ]
    },
    {
     "name": "stdout",
     "output_type": "stream",
     "text": [
      "150\n",
      "56.15391683578491\n"
     ]
    },
    {
     "name": "stderr",
     "output_type": "stream",
     "text": [
      "/Users/jeongmyeong-won/Library/Application Support/hatch/env/virtual/ghostumap/lpj6sL2Q/ghostumap/lib/python3.12/site-packages/umap/umap_.py:2012: UserWarning: precomputed_knn[2] (knn_search_index) is not an NNDescent object: transforming new data with transform will be unavailable.\n",
      "  warn(\n"
     ]
    },
    {
     "name": "stdout",
     "output_type": "stream",
     "text": [
      "150\n",
      "403\n",
      "1.0\n"
     ]
    },
    {
     "name": "stderr",
     "output_type": "stream",
     "text": [
      "/Users/jeongmyeong-won/Library/Application Support/hatch/env/virtual/ghostumap/lpj6sL2Q/ghostumap/lib/python3.12/site-packages/umap/umap_.py:2012: UserWarning: precomputed_knn[2] (knn_search_index) is not an NNDescent object: transforming new data with transform will be unavailable.\n",
      "  warn(\n"
     ]
    },
    {
     "name": "stdout",
     "output_type": "stream",
     "text": [
      "150\n",
      "54.513784885406494\n"
     ]
    },
    {
     "name": "stderr",
     "output_type": "stream",
     "text": [
      "/Users/jeongmyeong-won/Library/Application Support/hatch/env/virtual/ghostumap/lpj6sL2Q/ghostumap/lib/python3.12/site-packages/umap/umap_.py:2012: UserWarning: precomputed_knn[2] (knn_search_index) is not an NNDescent object: transforming new data with transform will be unavailable.\n",
      "  warn(\n"
     ]
    },
    {
     "name": "stdout",
     "output_type": "stream",
     "text": [
      "150\n",
      "425\n",
      "1.0\n"
     ]
    },
    {
     "name": "stderr",
     "output_type": "stream",
     "text": [
      "/Users/jeongmyeong-won/Library/Application Support/hatch/env/virtual/ghostumap/lpj6sL2Q/ghostumap/lib/python3.12/site-packages/umap/umap_.py:2012: UserWarning: precomputed_knn[2] (knn_search_index) is not an NNDescent object: transforming new data with transform will be unavailable.\n",
      "  warn(\n"
     ]
    },
    {
     "name": "stdout",
     "output_type": "stream",
     "text": [
      "150\n",
      "49.845619916915894\n"
     ]
    },
    {
     "name": "stderr",
     "output_type": "stream",
     "text": [
      "/Users/jeongmyeong-won/Library/Application Support/hatch/env/virtual/ghostumap/lpj6sL2Q/ghostumap/lib/python3.12/site-packages/umap/umap_.py:2012: UserWarning: precomputed_knn[2] (knn_search_index) is not an NNDescent object: transforming new data with transform will be unavailable.\n",
      "  warn(\n"
     ]
    },
    {
     "name": "stdout",
     "output_type": "stream",
     "text": [
      "150\n",
      "410\n",
      "1.0\n"
     ]
    },
    {
     "name": "stderr",
     "output_type": "stream",
     "text": [
      "/Users/jeongmyeong-won/Library/Application Support/hatch/env/virtual/ghostumap/lpj6sL2Q/ghostumap/lib/python3.12/site-packages/umap/umap_.py:2012: UserWarning: precomputed_knn[2] (knn_search_index) is not an NNDescent object: transforming new data with transform will be unavailable.\n",
      "  warn(\n"
     ]
    },
    {
     "name": "stdout",
     "output_type": "stream",
     "text": [
      "150\n",
      "48.579729318618774\n"
     ]
    },
    {
     "name": "stderr",
     "output_type": "stream",
     "text": [
      "/Users/jeongmyeong-won/Library/Application Support/hatch/env/virtual/ghostumap/lpj6sL2Q/ghostumap/lib/python3.12/site-packages/umap/umap_.py:2012: UserWarning: precomputed_knn[2] (knn_search_index) is not an NNDescent object: transforming new data with transform will be unavailable.\n",
      "  warn(\n"
     ]
    },
    {
     "name": "stdout",
     "output_type": "stream",
     "text": [
      "150\n",
      "426\n",
      "1.0\n"
     ]
    },
    {
     "name": "stderr",
     "output_type": "stream",
     "text": [
      "/Users/jeongmyeong-won/Library/Application Support/hatch/env/virtual/ghostumap/lpj6sL2Q/ghostumap/lib/python3.12/site-packages/umap/umap_.py:2012: UserWarning: precomputed_knn[2] (knn_search_index) is not an NNDescent object: transforming new data with transform will be unavailable.\n",
      "  warn(\n"
     ]
    },
    {
     "name": "stdout",
     "output_type": "stream",
     "text": [
      "150\n",
      "49.67839813232422\n"
     ]
    },
    {
     "name": "stderr",
     "output_type": "stream",
     "text": [
      "/Users/jeongmyeong-won/Library/Application Support/hatch/env/virtual/ghostumap/lpj6sL2Q/ghostumap/lib/python3.12/site-packages/umap/umap_.py:2012: UserWarning: precomputed_knn[2] (knn_search_index) is not an NNDescent object: transforming new data with transform will be unavailable.\n",
      "  warn(\n"
     ]
    },
    {
     "name": "stdout",
     "output_type": "stream",
     "text": [
      "150\n",
      "414\n",
      "1.0\n"
     ]
    },
    {
     "name": "stderr",
     "output_type": "stream",
     "text": [
      "/Users/jeongmyeong-won/Library/Application Support/hatch/env/virtual/ghostumap/lpj6sL2Q/ghostumap/lib/python3.12/site-packages/umap/umap_.py:2012: UserWarning: precomputed_knn[2] (knn_search_index) is not an NNDescent object: transforming new data with transform will be unavailable.\n",
      "  warn(\n"
     ]
    },
    {
     "name": "stdout",
     "output_type": "stream",
     "text": [
      "150\n",
      "48.89663290977478\n"
     ]
    },
    {
     "name": "stderr",
     "output_type": "stream",
     "text": [
      "/Users/jeongmyeong-won/Library/Application Support/hatch/env/virtual/ghostumap/lpj6sL2Q/ghostumap/lib/python3.12/site-packages/umap/umap_.py:2012: UserWarning: precomputed_knn[2] (knn_search_index) is not an NNDescent object: transforming new data with transform will be unavailable.\n",
      "  warn(\n"
     ]
    },
    {
     "name": "stdout",
     "output_type": "stream",
     "text": [
      "150\n",
      "419\n",
      "1.0\n"
     ]
    },
    {
     "name": "stderr",
     "output_type": "stream",
     "text": [
      "/Users/jeongmyeong-won/Library/Application Support/hatch/env/virtual/ghostumap/lpj6sL2Q/ghostumap/lib/python3.12/site-packages/umap/umap_.py:2012: UserWarning: precomputed_knn[2] (knn_search_index) is not an NNDescent object: transforming new data with transform will be unavailable.\n",
      "  warn(\n"
     ]
    },
    {
     "name": "stdout",
     "output_type": "stream",
     "text": [
      "150\n",
      "58.35632801055908\n"
     ]
    },
    {
     "name": "stderr",
     "output_type": "stream",
     "text": [
      "/Users/jeongmyeong-won/Library/Application Support/hatch/env/virtual/ghostumap/lpj6sL2Q/ghostumap/lib/python3.12/site-packages/umap/umap_.py:2012: UserWarning: precomputed_knn[2] (knn_search_index) is not an NNDescent object: transforming new data with transform will be unavailable.\n",
      "  warn(\n"
     ]
    },
    {
     "name": "stdout",
     "output_type": "stream",
     "text": [
      "150\n",
      "427\n",
      "1.0\n"
     ]
    },
    {
     "name": "stderr",
     "output_type": "stream",
     "text": [
      "/Users/jeongmyeong-won/Library/Application Support/hatch/env/virtual/ghostumap/lpj6sL2Q/ghostumap/lib/python3.12/site-packages/umap/umap_.py:2012: UserWarning: precomputed_knn[2] (knn_search_index) is not an NNDescent object: transforming new data with transform will be unavailable.\n",
      "  warn(\n"
     ]
    },
    {
     "name": "stdout",
     "output_type": "stream",
     "text": [
      "150\n",
      "54.87309718132019\n"
     ]
    },
    {
     "name": "stderr",
     "output_type": "stream",
     "text": [
      "/Users/jeongmyeong-won/Library/Application Support/hatch/env/virtual/ghostumap/lpj6sL2Q/ghostumap/lib/python3.12/site-packages/umap/umap_.py:2012: UserWarning: precomputed_knn[2] (knn_search_index) is not an NNDescent object: transforming new data with transform will be unavailable.\n",
      "  warn(\n"
     ]
    },
    {
     "name": "stdout",
     "output_type": "stream",
     "text": [
      "150\n",
      "404\n",
      "1.0\n"
     ]
    },
    {
     "name": "stderr",
     "output_type": "stream",
     "text": [
      "/Users/jeongmyeong-won/Library/Application Support/hatch/env/virtual/ghostumap/lpj6sL2Q/ghostumap/lib/python3.12/site-packages/umap/umap_.py:2012: UserWarning: precomputed_knn[2] (knn_search_index) is not an NNDescent object: transforming new data with transform will be unavailable.\n",
      "  warn(\n"
     ]
    },
    {
     "name": "stdout",
     "output_type": "stream",
     "text": [
      "150\n",
      "55.768970012664795\n"
     ]
    }
   ],
   "source": [
    "from ghostumap.utils import detect_instable_ghosts\n",
    "\n",
    "from benchmark import measure_f1\n",
    "\n",
    "\n",
    "halving_points = [[10], [20], [30], [50], [70], [100], [150]]\n",
    "\n",
    "n_accs = []\n",
    "n_times = []\n",
    "\n",
    "for hp in halving_points:\n",
    "    accs = []\n",
    "    times = []\n",
    "    for i in range(10):\n",
    "        O, G, ghost_indices = gu.fit_transform(\n",
    "            mnist, halving_points=hp, n_ghosts=8, benchmark=\"accuracy\"\n",
    "        )\n",
    "        rank_halved, score_halved = gu.detect_instable_ghosts()\n",
    "        rank, score = detect_instable_ghosts(O, G, None)\n",
    "        mean = np.mean(score)\n",
    "        std = np.std(score)\n",
    "        e = score[score > mean + (2.58 * std)].shape[0]\n",
    "        print(e)\n",
    "        accs.append(measure_f1(rank, rank_halved, k=e))\n",
    "        print(accs[-1])\n",
    "        O, G, ghost_indices = gu.fit_transform(\n",
    "            mnist, halving_points=hp, n_ghosts=8\n",
    "        )\n",
    "        times.append(gu.time_cost)\n",
    "        print(times[-1])\n",
    "    n_accs.append(accs)\n",
    "    n_times.append(times)\n",
    "    \n"
   ]
  },
  {
   "cell_type": "code",
   "execution_count": 17,
   "metadata": {},
   "outputs": [],
   "source": [
    "acc_mean = []\n",
    "acc_std = []\n",
    "time_mean = []\n",
    "time_std = []\n",
    "for i in range(len(halving_points)):\n",
    "    acc_mean.append(np.mean(n_accs[i]))\n",
    "    acc_std.append(np.std(n_accs[i]))\n",
    "    time_mean.append(np.mean(n_times[i]))\n",
    "    time_std.append(np.std(n_times[i]))\n",
    "    \n",
    "    "
   ]
  },
  {
   "cell_type": "code",
   "execution_count": 30,
   "metadata": {},
   "outputs": [
    {
     "name": "stderr",
     "output_type": "stream",
     "text": [
      "/Users/jeongmyeong-won/Library/Application Support/hatch/env/virtual/ghostumap/lpj6sL2Q/ghostumap/lib/python3.12/site-packages/umap/umap_.py:2012: UserWarning: precomputed_knn[2] (knn_search_index) is not an NNDescent object: transforming new data with transform will be unavailable.\n",
      "  warn(\n"
     ]
    },
    {
     "name": "stdout",
     "output_type": "stream",
     "text": [
      "20\n",
      "421\n",
      "0.8812351543942994\n"
     ]
    },
    {
     "name": "stderr",
     "output_type": "stream",
     "text": [
      "/Users/jeongmyeong-won/Library/Application Support/hatch/env/virtual/ghostumap/lpj6sL2Q/ghostumap/lib/python3.12/site-packages/umap/umap_.py:2012: UserWarning: precomputed_knn[2] (knn_search_index) is not an NNDescent object: transforming new data with transform will be unavailable.\n",
      "  warn(\n"
     ]
    },
    {
     "name": "stdout",
     "output_type": "stream",
     "text": [
      "20\n",
      "39.833958864212036\n"
     ]
    },
    {
     "name": "stderr",
     "output_type": "stream",
     "text": [
      "/Users/jeongmyeong-won/Library/Application Support/hatch/env/virtual/ghostumap/lpj6sL2Q/ghostumap/lib/python3.12/site-packages/umap/umap_.py:2012: UserWarning: precomputed_knn[2] (knn_search_index) is not an NNDescent object: transforming new data with transform will be unavailable.\n",
      "  warn(\n"
     ]
    },
    {
     "name": "stdout",
     "output_type": "stream",
     "text": [
      "20\n",
      "438\n",
      "0.9018264840182648\n"
     ]
    },
    {
     "name": "stderr",
     "output_type": "stream",
     "text": [
      "/Users/jeongmyeong-won/Library/Application Support/hatch/env/virtual/ghostumap/lpj6sL2Q/ghostumap/lib/python3.12/site-packages/umap/umap_.py:2012: UserWarning: precomputed_knn[2] (knn_search_index) is not an NNDescent object: transforming new data with transform will be unavailable.\n",
      "  warn(\n"
     ]
    },
    {
     "name": "stdout",
     "output_type": "stream",
     "text": [
      "20\n",
      "36.369807958602905\n"
     ]
    },
    {
     "name": "stderr",
     "output_type": "stream",
     "text": [
      "/Users/jeongmyeong-won/Library/Application Support/hatch/env/virtual/ghostumap/lpj6sL2Q/ghostumap/lib/python3.12/site-packages/umap/umap_.py:2012: UserWarning: precomputed_knn[2] (knn_search_index) is not an NNDescent object: transforming new data with transform will be unavailable.\n",
      "  warn(\n"
     ]
    },
    {
     "name": "stdout",
     "output_type": "stream",
     "text": [
      "20\n",
      "404\n",
      "0.9034653465346535\n"
     ]
    },
    {
     "name": "stderr",
     "output_type": "stream",
     "text": [
      "/Users/jeongmyeong-won/Library/Application Support/hatch/env/virtual/ghostumap/lpj6sL2Q/ghostumap/lib/python3.12/site-packages/umap/umap_.py:2012: UserWarning: precomputed_knn[2] (knn_search_index) is not an NNDescent object: transforming new data with transform will be unavailable.\n",
      "  warn(\n"
     ]
    },
    {
     "name": "stdout",
     "output_type": "stream",
     "text": [
      "20\n",
      "36.406349182128906\n"
     ]
    },
    {
     "name": "stderr",
     "output_type": "stream",
     "text": [
      "/Users/jeongmyeong-won/Library/Application Support/hatch/env/virtual/ghostumap/lpj6sL2Q/ghostumap/lib/python3.12/site-packages/umap/umap_.py:2012: UserWarning: precomputed_knn[2] (knn_search_index) is not an NNDescent object: transforming new data with transform will be unavailable.\n",
      "  warn(\n"
     ]
    },
    {
     "name": "stdout",
     "output_type": "stream",
     "text": [
      "20\n",
      "400\n",
      "0.8825\n"
     ]
    },
    {
     "name": "stderr",
     "output_type": "stream",
     "text": [
      "/Users/jeongmyeong-won/Library/Application Support/hatch/env/virtual/ghostumap/lpj6sL2Q/ghostumap/lib/python3.12/site-packages/umap/umap_.py:2012: UserWarning: precomputed_knn[2] (knn_search_index) is not an NNDescent object: transforming new data with transform will be unavailable.\n",
      "  warn(\n"
     ]
    },
    {
     "name": "stdout",
     "output_type": "stream",
     "text": [
      "20\n",
      "37.483113050460815\n"
     ]
    },
    {
     "name": "stderr",
     "output_type": "stream",
     "text": [
      "/Users/jeongmyeong-won/Library/Application Support/hatch/env/virtual/ghostumap/lpj6sL2Q/ghostumap/lib/python3.12/site-packages/umap/umap_.py:2012: UserWarning: precomputed_knn[2] (knn_search_index) is not an NNDescent object: transforming new data with transform will be unavailable.\n",
      "  warn(\n"
     ]
    },
    {
     "name": "stdout",
     "output_type": "stream",
     "text": [
      "20\n",
      "410\n",
      "0.8975609756097561\n"
     ]
    },
    {
     "name": "stderr",
     "output_type": "stream",
     "text": [
      "/Users/jeongmyeong-won/Library/Application Support/hatch/env/virtual/ghostumap/lpj6sL2Q/ghostumap/lib/python3.12/site-packages/umap/umap_.py:2012: UserWarning: precomputed_knn[2] (knn_search_index) is not an NNDescent object: transforming new data with transform will be unavailable.\n",
      "  warn(\n"
     ]
    },
    {
     "name": "stdout",
     "output_type": "stream",
     "text": [
      "20\n",
      "36.27558970451355\n"
     ]
    },
    {
     "name": "stderr",
     "output_type": "stream",
     "text": [
      "/Users/jeongmyeong-won/Library/Application Support/hatch/env/virtual/ghostumap/lpj6sL2Q/ghostumap/lib/python3.12/site-packages/umap/umap_.py:2012: UserWarning: precomputed_knn[2] (knn_search_index) is not an NNDescent object: transforming new data with transform will be unavailable.\n",
      "  warn(\n"
     ]
    },
    {
     "name": "stdout",
     "output_type": "stream",
     "text": [
      "20\n",
      "411\n",
      "0.8734793187347932\n"
     ]
    },
    {
     "name": "stderr",
     "output_type": "stream",
     "text": [
      "/Users/jeongmyeong-won/Library/Application Support/hatch/env/virtual/ghostumap/lpj6sL2Q/ghostumap/lib/python3.12/site-packages/umap/umap_.py:2012: UserWarning: precomputed_knn[2] (knn_search_index) is not an NNDescent object: transforming new data with transform will be unavailable.\n",
      "  warn(\n"
     ]
    },
    {
     "name": "stdout",
     "output_type": "stream",
     "text": [
      "20\n",
      "37.466317892074585\n"
     ]
    },
    {
     "name": "stderr",
     "output_type": "stream",
     "text": [
      "/Users/jeongmyeong-won/Library/Application Support/hatch/env/virtual/ghostumap/lpj6sL2Q/ghostumap/lib/python3.12/site-packages/umap/umap_.py:2012: UserWarning: precomputed_knn[2] (knn_search_index) is not an NNDescent object: transforming new data with transform will be unavailable.\n",
      "  warn(\n"
     ]
    },
    {
     "name": "stdout",
     "output_type": "stream",
     "text": [
      "20\n",
      "396\n",
      "0.8964646464646465\n"
     ]
    },
    {
     "name": "stderr",
     "output_type": "stream",
     "text": [
      "/Users/jeongmyeong-won/Library/Application Support/hatch/env/virtual/ghostumap/lpj6sL2Q/ghostumap/lib/python3.12/site-packages/umap/umap_.py:2012: UserWarning: precomputed_knn[2] (knn_search_index) is not an NNDescent object: transforming new data with transform will be unavailable.\n",
      "  warn(\n"
     ]
    },
    {
     "name": "stdout",
     "output_type": "stream",
     "text": [
      "20\n",
      "36.737831354141235\n"
     ]
    },
    {
     "name": "stderr",
     "output_type": "stream",
     "text": [
      "/Users/jeongmyeong-won/Library/Application Support/hatch/env/virtual/ghostumap/lpj6sL2Q/ghostumap/lib/python3.12/site-packages/umap/umap_.py:2012: UserWarning: precomputed_knn[2] (knn_search_index) is not an NNDescent object: transforming new data with transform will be unavailable.\n",
      "  warn(\n"
     ]
    },
    {
     "name": "stdout",
     "output_type": "stream",
     "text": [
      "20\n",
      "413\n",
      "0.8886198547215496\n"
     ]
    },
    {
     "name": "stderr",
     "output_type": "stream",
     "text": [
      "/Users/jeongmyeong-won/Library/Application Support/hatch/env/virtual/ghostumap/lpj6sL2Q/ghostumap/lib/python3.12/site-packages/umap/umap_.py:2012: UserWarning: precomputed_knn[2] (knn_search_index) is not an NNDescent object: transforming new data with transform will be unavailable.\n",
      "  warn(\n"
     ]
    },
    {
     "name": "stdout",
     "output_type": "stream",
     "text": [
      "20\n",
      "34.705732107162476\n"
     ]
    },
    {
     "name": "stderr",
     "output_type": "stream",
     "text": [
      "/Users/jeongmyeong-won/Library/Application Support/hatch/env/virtual/ghostumap/lpj6sL2Q/ghostumap/lib/python3.12/site-packages/umap/umap_.py:2012: UserWarning: precomputed_knn[2] (knn_search_index) is not an NNDescent object: transforming new data with transform will be unavailable.\n",
      "  warn(\n"
     ]
    },
    {
     "name": "stdout",
     "output_type": "stream",
     "text": [
      "20\n",
      "401\n",
      "0.8753117206982544\n"
     ]
    },
    {
     "name": "stderr",
     "output_type": "stream",
     "text": [
      "/Users/jeongmyeong-won/Library/Application Support/hatch/env/virtual/ghostumap/lpj6sL2Q/ghostumap/lib/python3.12/site-packages/umap/umap_.py:2012: UserWarning: precomputed_knn[2] (knn_search_index) is not an NNDescent object: transforming new data with transform will be unavailable.\n",
      "  warn(\n"
     ]
    },
    {
     "name": "stdout",
     "output_type": "stream",
     "text": [
      "20\n",
      "35.53379511833191\n"
     ]
    },
    {
     "name": "stderr",
     "output_type": "stream",
     "text": [
      "/Users/jeongmyeong-won/Library/Application Support/hatch/env/virtual/ghostumap/lpj6sL2Q/ghostumap/lib/python3.12/site-packages/umap/umap_.py:2012: UserWarning: precomputed_knn[2] (knn_search_index) is not an NNDescent object: transforming new data with transform will be unavailable.\n",
      "  warn(\n"
     ]
    },
    {
     "name": "stdout",
     "output_type": "stream",
     "text": [
      "20\n",
      "416\n",
      "0.8894230769230769\n"
     ]
    },
    {
     "name": "stderr",
     "output_type": "stream",
     "text": [
      "/Users/jeongmyeong-won/Library/Application Support/hatch/env/virtual/ghostumap/lpj6sL2Q/ghostumap/lib/python3.12/site-packages/umap/umap_.py:2012: UserWarning: precomputed_knn[2] (knn_search_index) is not an NNDescent object: transforming new data with transform will be unavailable.\n",
      "  warn(\n"
     ]
    },
    {
     "name": "stdout",
     "output_type": "stream",
     "text": [
      "20\n",
      "35.36166000366211\n"
     ]
    }
   ],
   "source": [
    "from ghostumap.utils import detect_instable_ghosts\n",
    "\n",
    "from benchmark import measure_f1\n",
    "\n",
    "\n",
    "\n",
    "\n",
    "acc_20 = []\n",
    "time_20 = []\n",
    "\n",
    "hp = [20]\n",
    "for i in range(10):\n",
    "    O, G, ghost_indices = gu.fit_transform(\n",
    "        mnist, halving_points=hp, n_ghosts=8, benchmark=\"accuracy\"\n",
    "    )\n",
    "    rank_halved, score_halved = gu.detect_instable_ghosts()\n",
    "    rank, score = detect_instable_ghosts(O, G, None)\n",
    "    mean = np.mean(score)\n",
    "    std = np.std(score)\n",
    "    e = score[score > mean + (2.58 * std)].shape[0]\n",
    "    print(e)\n",
    "    acc_20.append(measure_f1(rank, rank_halved, k=e))\n",
    "    print(acc_20[-1])\n",
    "    O, G, ghost_indices = gu.fit_transform(\n",
    "        mnist, halving_points=hp, n_ghosts=8\n",
    "    )\n",
    "    time_20.append(gu.time_cost)\n",
    "    print(time_20[-1])\n",
    "\n"
   ]
  },
  {
   "cell_type": "code",
   "execution_count": 31,
   "metadata": {},
   "outputs": [
    {
     "data": {
      "text/plain": [
       "([0.8812351543942994,\n",
       "  0.9018264840182648,\n",
       "  0.9034653465346535,\n",
       "  0.8825,\n",
       "  0.8975609756097561,\n",
       "  0.8734793187347932,\n",
       "  0.8964646464646465,\n",
       "  0.8886198547215496,\n",
       "  0.8753117206982544,\n",
       "  0.8894230769230769],\n",
       " [39.833958864212036,\n",
       "  36.369807958602905,\n",
       "  36.406349182128906,\n",
       "  37.483113050460815,\n",
       "  36.27558970451355,\n",
       "  37.466317892074585,\n",
       "  36.737831354141235,\n",
       "  34.705732107162476,\n",
       "  35.53379511833191,\n",
       "  35.36166000366211])"
      ]
     },
     "execution_count": 31,
     "metadata": {},
     "output_type": "execute_result"
    }
   ],
   "source": [
    "acc_20, time_20"
   ]
  },
  {
   "cell_type": "code",
   "execution_count": 26,
   "metadata": {},
   "outputs": [],
   "source": [
    "halving_points = [10, 20, 30, 50, 70, 100, 150]"
   ]
  },
  {
   "cell_type": "code",
   "execution_count": 52,
   "metadata": {},
   "outputs": [
    {
     "data": {
      "text/plain": [
       "[35.833958864212036,\n",
       " 35.369807958602905,\n",
       " 35.406349182128906,\n",
       " 36.483113050460815,\n",
       " 35.27558970451355,\n",
       " 36.466317892074585,\n",
       " 35.737831354141235,\n",
       " 34.705732107162476,\n",
       " 35.53379511833191,\n",
       " 35.36166000366211]"
      ]
     },
     "execution_count": 52,
     "metadata": {},
     "output_type": "execute_result"
    }
   ],
   "source": [
    "for i in range(7):\n",
    "    time_20[i] -= 1\n",
    "time_20"
   ]
  },
  {
   "cell_type": "code",
   "execution_count": 53,
   "metadata": {},
   "outputs": [
    {
     "data": {
      "text/plain": [
       "([0.8812351543942994,\n",
       "  0.9018264840182648,\n",
       "  0.9034653465346535,\n",
       "  0.8825,\n",
       "  0.8975609756097561,\n",
       "  0.8734793187347932,\n",
       "  0.8964646464646465,\n",
       "  0.8886198547215496,\n",
       "  0.8753117206982544,\n",
       "  0.8894230769230769],\n",
       " [35.833958864212036,\n",
       "  35.369807958602905,\n",
       "  35.406349182128906,\n",
       "  36.483113050460815,\n",
       "  35.27558970451355,\n",
       "  36.466317892074585,\n",
       "  35.737831354141235,\n",
       "  34.705732107162476,\n",
       "  35.53379511833191,\n",
       "  35.36166000366211])"
      ]
     },
     "execution_count": 53,
     "metadata": {},
     "output_type": "execute_result"
    }
   ],
   "source": [
    "n_accs[1] = acc_20\n",
    "n_times[1] = time_20\n",
    "\n",
    "n_accs[1], n_times[1]"
   ]
  },
  {
   "cell_type": "code",
   "execution_count": 54,
   "metadata": {},
   "outputs": [
    {
     "data": {
      "text/plain": [
       "(0.8889886578099293,\n",
       " 0.010168096062652694,\n",
       " 35.617415523529054,\n",
       " 0.5155319327768214)"
      ]
     },
     "execution_count": 54,
     "metadata": {},
     "output_type": "execute_result"
    }
   ],
   "source": [
    "acc_20_mean = np.mean(acc_20)\n",
    "acc_20_std = np.std(acc_20)\n",
    "time_20_mean = np.mean(time_20)\n",
    "time_20_std = np.std(time_20)\n",
    "acc_20_mean, acc_20_std, time_20_mean, time_20_std"
   ]
  },
  {
   "cell_type": "code",
   "execution_count": 55,
   "metadata": {},
   "outputs": [
    {
     "data": {
      "text/plain": [
       "(0.8889886578099293,\n",
       " 0.010168096062652694,\n",
       " 35.617415523529054,\n",
       " 0.5155319327768214)"
      ]
     },
     "execution_count": 55,
     "metadata": {},
     "output_type": "execute_result"
    }
   ],
   "source": [
    "acc_mean[1] = acc_20_mean\n",
    "acc_std[1] = acc_20_std\n",
    "time_mean[1] = time_20_mean\n",
    "time_std[1] = time_20_std\n",
    "\n",
    "acc_mean[1], acc_std[1], time_mean[1], time_std[1]"
   ]
  },
  {
   "cell_type": "code",
   "execution_count": 56,
   "metadata": {},
   "outputs": [],
   "source": [
    "import json\n",
    "result = {\n",
    "    \"halving_points\": halving_points,\n",
    "    \"accuracy\": n_accs,\n",
    "    \"time\": n_times,\n",
    "    \"acc_mean\": acc_mean,\n",
    "    \"acc_std\": acc_std,\n",
    "    \"time_mean\": time_mean,\n",
    "    \"time_std\": time_std\n",
    "}\n",
    "json.dump(result, open(\"mnist_sh_test.json\", \"w\")) "
   ]
  },
  {
   "cell_type": "code",
   "execution_count": 22,
   "metadata": {},
   "outputs": [
    {
     "data": {
      "text/plain": [
       "dict_keys(['halving_points', 'accuracy', 'time', 'acc_mean', 'acc_std', 'time_mean', 'time_std'])"
      ]
     },
     "execution_count": 22,
     "metadata": {},
     "output_type": "execute_result"
    }
   ],
   "source": [
    "result.keys()"
   ]
  },
  {
   "cell_type": "code",
   "execution_count": 63,
   "metadata": {},
   "outputs": [],
   "source": [
    "import pandas as pd\n",
    "\n",
    "result = {\n",
    "    \"Schedule\": halving_points,\n",
    "    \"F1 Score\": acc_mean,\n",
    "    \"F1-score_stdev\": acc_std,\n",
    "    \"Execution Time\": time_mean,\n",
    "    \"Time_stdev\": time_std\n",
    "}\n",
    "\n",
    "\n",
    "df = pd.DataFrame(result)\n",
    "df.to_latex(\"mnist_sh_test.tex\")\n"
   ]
  },
  {
   "cell_type": "code",
   "execution_count": 171,
   "metadata": {},
   "outputs": [
    {
     "data": {
      "text/html": [
       "\n",
       "<style>\n",
       "  #altair-viz-bdf1f095cd054dbba1b874163d375112.vega-embed {\n",
       "    width: 100%;\n",
       "    display: flex;\n",
       "  }\n",
       "\n",
       "  #altair-viz-bdf1f095cd054dbba1b874163d375112.vega-embed details,\n",
       "  #altair-viz-bdf1f095cd054dbba1b874163d375112.vega-embed details summary {\n",
       "    position: relative;\n",
       "  }\n",
       "</style>\n",
       "<div id=\"altair-viz-bdf1f095cd054dbba1b874163d375112\"></div>\n",
       "<script type=\"text/javascript\">\n",
       "  var VEGA_DEBUG = (typeof VEGA_DEBUG == \"undefined\") ? {} : VEGA_DEBUG;\n",
       "  (function(spec, embedOpt){\n",
       "    let outputDiv = document.currentScript.previousElementSibling;\n",
       "    if (outputDiv.id !== \"altair-viz-bdf1f095cd054dbba1b874163d375112\") {\n",
       "      outputDiv = document.getElementById(\"altair-viz-bdf1f095cd054dbba1b874163d375112\");\n",
       "    }\n",
       "    const paths = {\n",
       "      \"vega\": \"https://cdn.jsdelivr.net/npm/vega@5?noext\",\n",
       "      \"vega-lib\": \"https://cdn.jsdelivr.net/npm/vega-lib?noext\",\n",
       "      \"vega-lite\": \"https://cdn.jsdelivr.net/npm/vega-lite@5.17.0?noext\",\n",
       "      \"vega-embed\": \"https://cdn.jsdelivr.net/npm/vega-embed@6?noext\",\n",
       "    };\n",
       "\n",
       "    function maybeLoadScript(lib, version) {\n",
       "      var key = `${lib.replace(\"-\", \"\")}_version`;\n",
       "      return (VEGA_DEBUG[key] == version) ?\n",
       "        Promise.resolve(paths[lib]) :\n",
       "        new Promise(function(resolve, reject) {\n",
       "          var s = document.createElement('script');\n",
       "          document.getElementsByTagName(\"head\")[0].appendChild(s);\n",
       "          s.async = true;\n",
       "          s.onload = () => {\n",
       "            VEGA_DEBUG[key] = version;\n",
       "            return resolve(paths[lib]);\n",
       "          };\n",
       "          s.onerror = () => reject(`Error loading script: ${paths[lib]}`);\n",
       "          s.src = paths[lib];\n",
       "        });\n",
       "    }\n",
       "\n",
       "    function showError(err) {\n",
       "      outputDiv.innerHTML = `<div class=\"error\" style=\"color:red;\">${err}</div>`;\n",
       "      throw err;\n",
       "    }\n",
       "\n",
       "    function displayChart(vegaEmbed) {\n",
       "      vegaEmbed(outputDiv, spec, embedOpt)\n",
       "        .catch(err => showError(`Javascript Error: ${err.message}<br>This usually means there's a typo in your chart specification. See the javascript console for the full traceback.`));\n",
       "    }\n",
       "\n",
       "    if(typeof define === \"function\" && define.amd) {\n",
       "      requirejs.config({paths});\n",
       "      require([\"vega-embed\"], displayChart, err => showError(`Error loading script: ${err.message}`));\n",
       "    } else {\n",
       "      maybeLoadScript(\"vega\", \"5\")\n",
       "        .then(() => maybeLoadScript(\"vega-lite\", \"5.17.0\"))\n",
       "        .then(() => maybeLoadScript(\"vega-embed\", \"6\"))\n",
       "        .catch(showError)\n",
       "        .then(() => displayChart(vegaEmbed));\n",
       "    }\n",
       "  })({\"config\": {\"view\": {\"continuousWidth\": 300, \"continuousHeight\": 300}, \"axis\": {\"labelFontSize\": 13, \"titleFontSize\": 15}}, \"layer\": [{\"mark\": {\"type\": \"circle\", \"opacity\": 1, \"size\": 160}, \"encoding\": {\"color\": {\"field\": \"Schedule\", \"legend\": null, \"scale\": {\"domain\": [-60, 150], \"scheme\": \"blues\"}, \"type\": \"quantitative\"}, \"x\": {\"field\": \"Execution Time\", \"scale\": {\"zero\": false}, \"type\": \"quantitative\"}, \"y\": {\"field\": \"F1 Score\", \"scale\": {\"zero\": false}, \"type\": \"quantitative\"}}}, {\"mark\": {\"type\": \"text\", \"align\": \"left\", \"dx\": -14, \"dy\": 14, \"size\": 13}, \"encoding\": {\"text\": {\"field\": \"Schedule\", \"type\": \"nominal\"}, \"x\": {\"field\": \"Execution Time\", \"type\": \"quantitative\"}, \"y\": {\"field\": \"F1 Score\", \"type\": \"quantitative\"}}}], \"data\": {\"name\": \"data-0bd071a2bdfb0c4001b1f9d2f1e51a5e\"}, \"height\": 300, \"width\": 420, \"$schema\": \"https://vega.github.io/schema/vega-lite/v5.17.0.json\", \"datasets\": {\"data-0bd071a2bdfb0c4001b1f9d2f1e51a5e\": [{\"Schedule\": 10, \"F1 Score\": 0.7781731707656817, \"F1-score_stdev\": 0.02061059965459843, \"Execution Time\": 33.84401438236237, \"Time_stdev\": 0.37138269685367153}, {\"Schedule\": 20, \"F1 Score\": 0.8889886578099293, \"F1-score_stdev\": 0.010168096062652694, \"Execution Time\": 35.617415523529054, \"Time_stdev\": 0.5155319327768214}, {\"Schedule\": 30, \"F1 Score\": 0.9246888162038875, \"F1-score_stdev\": 0.009651673308476303, \"Execution Time\": 36.17205882072449, \"Time_stdev\": 0.5810219442475802}, {\"Schedule\": 50, \"F1 Score\": 0.9610676322640813, \"F1-score_stdev\": 0.008471008682330902, \"Execution Time\": 38.559850978851316, \"Time_stdev\": 0.5928131633502501}, {\"Schedule\": 70, \"F1 Score\": 0.9867729961443997, \"F1-score_stdev\": 0.0053167621652170875, \"Execution Time\": 40.69512407779693, \"Time_stdev\": 0.47215482342319176}, {\"Schedule\": 100, \"F1 Score\": 0.9976246513047331, \"F1-score_stdev\": 0.0018517965910270916, \"Execution Time\": 46.52502319812775, \"Time_stdev\": 3.32236011860089}, {\"Schedule\": 150, \"F1 Score\": 1.0, \"F1-score_stdev\": 0.0, \"Execution Time\": 53.51253402233124, \"Time_stdev\": 3.69643767842093}]}}, {\"mode\": \"vega-lite\"});\n",
       "</script>"
      ],
      "text/plain": [
       "alt.LayerChart(...)"
      ]
     },
     "execution_count": 171,
     "metadata": {},
     "output_type": "execute_result"
    }
   ],
   "source": [
    "import altair as alt\n",
    "\n",
    "points = alt.Chart(df).mark_circle(size=160, opacity=1).encode(\n",
    "    x=alt.X('Execution Time', scale=alt.Scale(zero=False)),\n",
    "    y=alt.Y('F1 Score', scale=alt.Scale(zero=False)),\n",
    "    color=alt.Color('Schedule', scale=alt.Scale(scheme='blues', domain = (-60, 150)), legend=None),\n",
    ").properties(width=420, height=300)\n",
    "\n",
    "text = alt.Chart(df).mark_text(align='left', dx=-14, dy=14, size=13).encode(\n",
    "    x='Execution Time',\n",
    "    y='F1 Score',\n",
    "    text='Schedule:N'  # :N은 숫자를 나타내는 명목 데이터 타입\n",
    ").properties(width=420, height=300)\n",
    "layered_chart = alt.layer(points, text)\n",
    "\n",
    "# # 전체 차트에 대한 구성 설정\n",
    "final_chart = layered_chart.configure_axis(\n",
    "    labelFontSize=13,\n",
    "    titleFontSize=15\n",
    ")\n",
    "final_chart\n",
    "# chart.save(\"tradeoff.png\", scale_factor=2.0)"
   ]
  },
  {
   "cell_type": "markdown",
   "metadata": {},
   "source": []
  },
  {
   "cell_type": "code",
   "execution_count": null,
   "metadata": {},
   "outputs": [],
   "source": [
    "bm.benchmark_accuracy(mnist, precomputed_knn=mnist_knn, halving_points=[200, 300, 400], title = 'mnist')\n",
    "bm.benchmark_time(mnist, precomputed_knn=mnist_knn, halving_points=[200, 300, 400], title = 'mnist')"
   ]
  },
  {
   "cell_type": "code",
   "execution_count": 5,
   "metadata": {},
   "outputs": [
    {
     "name": "stdout",
     "output_type": "stream",
     "text": [
      "Benchmarking time\n"
     ]
    },
    {
     "name": "stderr",
     "output_type": "stream",
     "text": [
      "/Users/jeongmyeong-won/Library/Application Support/hatch/env/virtual/ghostumap/lpj6sL2Q/ghostumap/lib/python3.12/site-packages/umap/umap_.py:2012: UserWarning: precomputed_knn[2] (knn_search_index) is not an NNDescent object: transforming new data with transform will be unavailable.\n",
      "  warn(\n",
      "/Users/jeongmyeong-won/Library/Application Support/hatch/env/virtual/ghostumap/lpj6sL2Q/ghostumap/lib/python3.12/site-packages/umap/umap_.py:2012: UserWarning: precomputed_knn[2] (knn_search_index) is not an NNDescent object: transforming new data with transform will be unavailable.\n",
      "  warn(\n"
     ]
    },
    {
     "name": "stdout",
     "output_type": "stream",
     "text": [
      "200\n",
      "300\n",
      "400\n",
      "Time umap: 3.8784892559051514\n",
      "Time w halving: 18.427716970443726\n",
      "Time wo halving: 27.935964107513428\n"
     ]
    },
    {
     "name": "stderr",
     "output_type": "stream",
     "text": [
      "/Users/jeongmyeong-won/Library/Application Support/hatch/env/virtual/ghostumap/lpj6sL2Q/ghostumap/lib/python3.12/site-packages/umap/umap_.py:2012: UserWarning: precomputed_knn[2] (knn_search_index) is not an NNDescent object: transforming new data with transform will be unavailable.\n",
      "  warn(\n"
     ]
    },
    {
     "name": "stdout",
     "output_type": "stream",
     "text": [
      "200\n",
      "300\n",
      "400\n",
      "Time umap: 3.6124210357666016\n",
      "Time w halving: 18.681382179260254\n",
      "Time wo halving: 30.343863010406494\n",
      "Umap: 3.7454551458358765 ± 0.1330341100692749\n",
      "with halving: 18.55454957485199 ± 0.12683260440826416\n",
      "without halving: 29.13991355895996 ± 1.2039494514465332\n"
     ]
    }
   ],
   "source": [
    "bm.benchmark_accuracy(celegans, precomputed_knn=celegans_knn, halving_points=[200, 300, 400], title = 'celegans')\n",
    "bm.benchmark_time(celegans, precomputed_knn=celegans_knn, halving_points=[200, 300, 400], title = 'celegans')"
   ]
  },
  {
   "cell_type": "code",
   "execution_count": null,
   "metadata": {},
   "outputs": [],
   "source": []
  },
  {
   "cell_type": "code",
   "execution_count": 9,
   "metadata": {},
   "outputs": [],
   "source": [
    "rank_halved, score_halved = ghostumap_.detect_instable_ghosts()\n",
    "rank, score = bm.detect_instable_ghosts(O, G, None)"
   ]
  },
  {
   "cell_type": "code",
   "execution_count": 17,
   "metadata": {},
   "outputs": [
    {
     "data": {
      "text/plain": [
       "(70000,)"
      ]
     },
     "execution_count": 17,
     "metadata": {},
     "output_type": "execute_result"
    }
   ],
   "source": [
    "rank.shape"
   ]
  },
  {
   "cell_type": "code",
   "execution_count": 19,
   "metadata": {},
   "outputs": [
    {
     "data": {
      "text/plain": [
       "0.5385714285714286"
      ]
     },
     "execution_count": 19,
     "metadata": {},
     "output_type": "execute_result"
    }
   ],
   "source": [
    "f1 = bm.measure_f1(rank, rank_halved, k=700)\n",
    "f1"
   ]
  },
  {
   "cell_type": "code",
   "execution_count": 28,
   "metadata": {},
   "outputs": [
    {
     "name": "stderr",
     "output_type": "stream",
     "text": [
      "/Users/jeongmyeong-won/Library/Application Support/hatch/env/virtual/ghostumap/lpj6sL2Q/ghostumap/lib/python3.12/site-packages/umap/umap_.py:2012: UserWarning: precomputed_knn[2] (knn_search_index) is not an NNDescent object: transforming new data with transform will be unavailable.\n",
      "  warn(\n"
     ]
    },
    {
     "name": "stdout",
     "output_type": "stream",
     "text": [
      "50\n",
      "100\n",
      "150\n"
     ]
    }
   ],
   "source": [
    "cifar, cifar_knn = bm.load_dataset('cifar10')\n",
    "gu2 = GhostUMAP(precomputed_knn=cifar_knn)\n",
    "\n",
    "O2, G2, ghost_indices2 = gu2.fit_transform(\n",
    "    cifar, halving_points=[50, 100, 150], n_ghosts=16, benchmark=\"accuracy\"\n",
    ")"
   ]
  },
  {
   "cell_type": "code",
   "execution_count": 66,
   "metadata": {},
   "outputs": [
    {
     "name": "stderr",
     "output_type": "stream",
     "text": [
      "/Users/jeongmyeong-won/Library/Application Support/hatch/env/virtual/ghostumap/lpj6sL2Q/ghostumap/lib/python3.12/site-packages/umap/umap_.py:2012: UserWarning: precomputed_knn[2] (knn_search_index) is not an NNDescent object: transforming new data with transform will be unavailable.\n",
      "  warn(\n"
     ]
    },
    {
     "name": "stdout",
     "output_type": "stream",
     "text": [
      "50\n",
      "100\n",
      "150\n"
     ]
    }
   ],
   "source": [
    "O3, G3, ghost_indices3 = gu2.fit_transform(\n",
    "    cifar, halving_points=[50, 100, 150], n_ghosts=16, benchmark=\"accuracy\"\n",
    ")"
   ]
  },
  {
   "cell_type": "code",
   "execution_count": 44,
   "metadata": {},
   "outputs": [],
   "source": [
    "rh, sh = gu2.detect_instable_ghosts()\n",
    "r, score = bm.detect_instable_ghosts(O2, G2, None)"
   ]
  },
  {
   "cell_type": "code",
   "execution_count": 60,
   "metadata": {},
   "outputs": [
    {
     "data": {
      "text/plain": [
       "0.8532934131736527"
      ]
     },
     "execution_count": 60,
     "metadata": {},
     "output_type": "execute_result"
    }
   ],
   "source": [
    "bm.measure_f1(r, rh, k=score[score>1].shape[0])"
   ]
  },
  {
   "cell_type": "code",
   "execution_count": 52,
   "metadata": {},
   "outputs": [
    {
     "name": "stdout",
     "output_type": "stream",
     "text": [
      "463 0.105830126\n"
     ]
    },
    {
     "data": {
      "image/png": "[encoded data removed]",
      "text/plain": [
       "<Figure size 640x480 with 1 Axes>"
      ]
     },
     "metadata": {},
     "output_type": "display_data"
    }
   ],
   "source": [
    "import matplotlib.pyplot as plt\n",
    "\n",
    "print(score[score>np.mean(score)].shape[0], np.mean(score))\n",
    "\n",
    "\n",
    "plt.hist(score[score>0.1], bins=200, cumulative=True)\n",
    "plt.xlabel('Score')\n",
    "plt.ylabel('Cumulative Frequency')\n",
    "plt.title('Cumulative Histogram of Score')\n",
    "plt.show()"
   ]
  },
  {
   "cell_type": "code",
   "execution_count": null,
   "metadata": {},
   "outputs": [],
   "source": [
    "Os = [\n",
    "    np.load(f'./result/mnist/accuracy/O_{i}.npy')\n",
    "    for i in range(10)\n",
    "]\n",
    "Gs = [\n",
    "    np.load(f'./result/mnist/accuracy/G_{i}.npy')\n",
    "    for i in range(10)\n",
    "]\n",
    "gis = [\n",
    "    np.load(f'./result/mnist/accuracy/ghost_indices_{i}.npy')\n",
    "    for i in range(10)\n",
    "]\n"
   ]
  }
 ],
 "metadata": {
  "kernelspec": {
   "display_name": "ghostumap",
   "language": "python",
   "name": "python3"
  },
  "language_info": {
   "codemirror_mode": {
    "name": "ipython",
    "version": 3
   },
   "file_extension": ".py",
   "mimetype": "text/x-python",
   "name": "python",
   "nbconvert_exporter": "python",
   "pygments_lexer": "ipython3",
   "version": "3.12.2"
  }
 },
 "nbformat": 4,
 "nbformat_minor": 2
}
