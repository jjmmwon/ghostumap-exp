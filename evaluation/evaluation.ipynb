{
 "cells": [
  {
   "cell_type": "code",
   "execution_count": 7,
   "metadata": {},
   "outputs": [],
   "source": [
    "import numpy as np\n",
    "import pandas as pd\n",
    "import matplotlib.pyplot as plt\n",
    "\n",
    "import benchmark as bm\n",
    "\n",
    "from ghostumap import GhostUMAP"
   ]
  },
  {
   "cell_type": "code",
   "execution_count": 2,
   "metadata": {},
   "outputs": [],
   "source": [
    "mnist, mnist_knn = bm.load_dataset('mnist')\n",
    "celegans, celegans_knn = bm.load_dataset('celegans')"
   ]
  },
  {
   "cell_type": "code",
   "execution_count": null,
   "metadata": {},
   "outputs": [],
   "source": [
    "bm.benchmark_accuracy(mnist, precomputed_knn=mnist_knn, halving_points=[200, 300, 400], title = 'mnist')\n",
    "bm.benchmark_time(mnist, precomputed_knn=mnist_knn, halving_points=[200, 300, 400], title = 'mnist')"
   ]
  },
  {
   "cell_type": "code",
   "execution_count": 5,
   "metadata": {},
   "outputs": [
    {
     "name": "stdout",
     "output_type": "stream",
     "text": [
      "Benchmarking time\n"
     ]
    },
    {
     "name": "stderr",
     "output_type": "stream",
     "text": [
      "/Users/jeongmyeong-won/Library/Application Support/hatch/env/virtual/ghostumap/lpj6sL2Q/ghostumap/lib/python3.12/site-packages/umap/umap_.py:2012: UserWarning: precomputed_knn[2] (knn_search_index) is not an NNDescent object: transforming new data with transform will be unavailable.\n",
      "  warn(\n",
      "/Users/jeongmyeong-won/Library/Application Support/hatch/env/virtual/ghostumap/lpj6sL2Q/ghostumap/lib/python3.12/site-packages/umap/umap_.py:2012: UserWarning: precomputed_knn[2] (knn_search_index) is not an NNDescent object: transforming new data with transform will be unavailable.\n",
      "  warn(\n"
     ]
    },
    {
     "name": "stdout",
     "output_type": "stream",
     "text": [
      "200\n",
      "300\n",
      "400\n",
      "Time umap: 3.8784892559051514\n",
      "Time w halving: 18.427716970443726\n",
      "Time wo halving: 27.935964107513428\n"
     ]
    },
    {
     "name": "stderr",
     "output_type": "stream",
     "text": [
      "/Users/jeongmyeong-won/Library/Application Support/hatch/env/virtual/ghostumap/lpj6sL2Q/ghostumap/lib/python3.12/site-packages/umap/umap_.py:2012: UserWarning: precomputed_knn[2] (knn_search_index) is not an NNDescent object: transforming new data with transform will be unavailable.\n",
      "  warn(\n"
     ]
    },
    {
     "name": "stdout",
     "output_type": "stream",
     "text": [
      "200\n",
      "300\n",
      "400\n",
      "Time umap: 3.6124210357666016\n",
      "Time w halving: 18.681382179260254\n",
      "Time wo halving: 30.343863010406494\n",
      "Umap: 3.7454551458358765 ± 0.1330341100692749\n",
      "with halving: 18.55454957485199 ± 0.12683260440826416\n",
      "without halving: 29.13991355895996 ± 1.2039494514465332\n"
     ]
    }
   ],
   "source": [
    "bm.benchmark_accuracy(celegans, precomputed_knn=celegans_knn, halving_points=[200, 300, 400], title = 'celegans')\n",
    "bm.benchmark_time(celegans, precomputed_knn=celegans_knn, halving_points=[200, 300, 400], title = 'celegans')"
   ]
  }
 ],
 "metadata": {
  "kernelspec": {
   "display_name": "ghostumap",
   "language": "python",
   "name": "python3"
  },
  "language_info": {
   "codemirror_mode": {
    "name": "ipython",
    "version": 3
   },
   "file_extension": ".py",
   "mimetype": "text/x-python",
   "name": "python",
   "nbconvert_exporter": "python",
   "pygments_lexer": "ipython3",
   "version": "3.12.2"
  }
 },
 "nbformat": 4,
 "nbformat_minor": 2
}
